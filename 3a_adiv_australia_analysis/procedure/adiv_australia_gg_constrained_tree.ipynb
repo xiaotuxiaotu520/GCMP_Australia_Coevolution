{
 "cells": [
  {
   "cell_type": "markdown",
   "metadata": {},
   "source": [
    "# This re-analysis provides the greengenes corrected tree to allow more accurate calculations of PD_whole_tree\n",
    "##Australia analysis alpha-diversity\n",
    "\n",
    "The goal of this anlysis is to run basic alpha-diversity comparisons for the Australia GCMP dataset.\n",
    "These will include estimates of richness (with obs_species), equitability, and PD for all samples, and alpha_diversity comparisons between compartments, sites, etc."
   ]
  },
  {
   "cell_type": "code",
   "execution_count": 1,
   "metadata": {
    "collapsed": false
   },
   "outputs": [
    {
     "name": "stdout",
     "output_type": "stream",
     "text": [
      "/Users/FJPollock/Dropbox/Coral_Microbiomes_Postdoc/GCMP_OSU_PSU_Shared_Folder/Coral_microbe_coevolution/Projects/Australia_Coevolution_Paper/16S_analysis/3a_adiv_australia_analysis\n"
     ]
    }
   ],
   "source": [
    "cd .."
   ]
  },
  {
   "cell_type": "code",
   "execution_count": 2,
   "metadata": {
    "collapsed": true
   },
   "outputs": [],
   "source": [
    "#Import libraries\n",
    "from os.path import join,abspath\n",
    "from os import listdir"
   ]
  },
  {
   "cell_type": "code",
   "execution_count": 8,
   "metadata": {
    "collapsed": true
   },
   "outputs": [],
   "source": [
    "#Set file paths\n",
    "input_dir = abspath(\"input/\")\n",
    "#NOTE: this is the rarified OTU table\n",
    "otu_table_1000 = abspath(\"input/otu_table_mc2_wtax_no_pynast_failures_no_organelles_even1000.biom\")\n",
    "otu_table = abspath(\"input/otu_table_mc2_wtax_no_pynast_failures_no_organelles.biom\")\n",
    "tree_fp = abspath(\"input/gg_constrained_rep_set_fastttree.tre\")\n",
    "mapping = abspath(\"input/gcmp16S_map_r24.txt\")\n",
    "output_dir = abspath(\"output/\")\n",
    "out_table_1000_scleractinia_only = abspath(\"input/otu_table_subset_scleractinian_no_whole_coral_even1000.biom\")"
   ]
  },
  {
   "cell_type": "markdown",
   "metadata": {},
   "source": [
    "### Alpha rarefaction\n",
    "First let's calculate overall alpha-diversity rarefaction for the whole dataset.  Later we may want to filter down to mostly the study corals."
   ]
  },
  {
   "cell_type": "code",
   "execution_count": 4,
   "metadata": {
    "collapsed": false
   },
   "outputs": [],
   "source": [
    "curr_output_dir = join(output_dir,\"alpha_rarefaction_1000_gg_constrained_tree\")\n",
    "!alpha_rarefaction.py -i $otu_table_1000 -t $tree_fp -m $mapping -o $curr_output_dir -f"
   ]
  },
  {
   "cell_type": "markdown",
   "metadata": {
    "collapsed": true
   },
   "source": [
    "From the alpha rarefaction step we get some interesting results.  There may be minor differences in richness between compartments, but these are not super striking.  Instead, differences betweeen all corals and outgroups seem pretty major (corals are less rich), as do mode_of_larval_reproduction (brooders are indeed less rich),sample_type.\n",
    "\n",
    "So now it's time to run some statistical tests on these categories."
   ]
  },
  {
   "cell_type": "code",
   "execution_count": 6,
   "metadata": {
    "collapsed": false
   },
   "outputs": [
    {
     "name": "stdout",
     "output_type": "stream",
     "text": [
      "/macqiime/anaconda/lib/python2.7/site-packages/matplotlib/tight_layout.py:225: UserWarning: tight_layout : falling back to Agg renderer\r\n",
      "  warnings.warn(\"tight_layout : falling back to Agg renderer\")\r\n"
     ]
    }
   ],
   "source": [
    "# PD_whole_tree w gg_constrained_tree\n",
    "collated_alpha_dir = join(output_dir,\"alpha_rarefaction_1000_gg_constrained_tree/alpha_div_collated/\")\n",
    "obs_otus_file = join(collated_alpha_dir,\"PD_whole_tree.txt\")\n",
    "test_cat_output_dir = join(output_dir,\"alpha_rarefaction_1000_stats_scleractinian_only_PD_gg_constrained_tree\")\n",
    "test_categories = \"host_clade_sensu_fukami,field_host_genus_id,field_host_name,Huang_Roy_tree_name,NCBI_inherited_blast_name,Mode_of_larval_development,sample_type,BiologicalMatter,reef_name,functional_group_sensu_darling,sediment_contact,binary_macroalgal_contact,binary_turf_contact,dominant_cover_2m\n",
    "!compare_alpha_diversity.py -i $obs_otus_file -o $test_cat_output_dir -d 1000 -c $test_categories -p fdr -m $mapping"
   ]
  },
  {
   "cell_type": "code",
   "execution_count": 7,
   "metadata": {
    "collapsed": false,
    "scrolled": true
   },
   "outputs": [
    {
     "name": "stdout",
     "output_type": "stream",
     "text": [
      "/macqiime/anaconda/lib/python2.7/site-packages/matplotlib/tight_layout.py:225: UserWarning: tight_layout : falling back to Agg renderer\r\n",
      "  warnings.warn(\"tight_layout : falling back to Agg renderer\")\r\n"
     ]
    }
   ],
   "source": [
    "# Observed OTU's w gg_constrained_tree\n",
    "collated_alpha_dir = join(output_dir,\"alpha_rarefaction_1000_gg_constrained_tree/alpha_div_collated/\")\n",
    "obs_otus_file = join(collated_alpha_dir,\"observed_otus.txt\")\n",
    "test_cat_output_dir = join(output_dir,\"alpha_rarefaction_1000_stats_Observed_OTUs_gg_constrained_tree\")\n",
    "test_categories = \"host_clade_sensu_fukami,field_host_genus_id,field_host_name,Huang_Roy_tree_name,NCBI_inherited_blast_name,Mode_of_larval_development,sample_type,BiologicalMatter,reef_name,functional_group_sensu_darling,sediment_contact,binary_macroalgal_contact,binary_turf_contact,dominant_cover_2m\n",
    "!compare_alpha_diversity.py -i $obs_otus_file -o $test_cat_output_dir -d 1000 -c $test_categories -p fdr -m $mapping"
   ]
  },
  {
   "cell_type": "markdown",
   "metadata": {},
   "source": [
    "# Scleractinian-only"
   ]
  },
  {
   "cell_type": "code",
   "execution_count": 9,
   "metadata": {
    "collapsed": true
   },
   "outputs": [],
   "source": [
    "curr_output_dir = join(output_dir,\"alpha_rarefaction_1000_Scleractinia_only_gg_constrained_tree\")\n",
    "!alpha_rarefaction.py -i $out_table_1000_scleractinia_only -t $tree_fp -m $mapping -o $curr_output_dir -f"
   ]
  },
  {
   "cell_type": "code",
   "execution_count": 10,
   "metadata": {
    "collapsed": false
   },
   "outputs": [
    {
     "name": "stdout",
     "output_type": "stream",
     "text": [
      "/macqiime/anaconda/lib/python2.7/site-packages/matplotlib/tight_layout.py:225: UserWarning: tight_layout : falling back to Agg renderer\r\n",
      "  warnings.warn(\"tight_layout : falling back to Agg renderer\")\r\n"
     ]
    }
   ],
   "source": [
    "# Observed OTU's w gg_constrained_tree (Scleractinian-only)\n",
    "collated_alpha_dir = join(output_dir,\"alpha_rarefaction_1000_Scleractinia_only_gg_constrained_tree/alpha_div_collated/\")\n",
    "obs_otus_file = join(collated_alpha_dir,\"observed_otus.txt\")\n",
    "test_cat_output_dir = join(output_dir,\"alpha_rarefaction_1000_Scleractinia_only_gg_constrained_tree_Observed_OTU_Scleractinian_only_stats\")\n",
    "test_categories = \"BiologicalMatter\"\n",
    "!compare_alpha_diversity.py -i $obs_otus_file -o $test_cat_output_dir -d 1000 -c $test_categories -p fdr -m $mapping"
   ]
  },
  {
   "cell_type": "code",
   "execution_count": 11,
   "metadata": {
    "collapsed": false
   },
   "outputs": [
    {
     "name": "stdout",
     "output_type": "stream",
     "text": [
      "/macqiime/anaconda/lib/python2.7/site-packages/matplotlib/tight_layout.py:225: UserWarning: tight_layout : falling back to Agg renderer\r\n",
      "  warnings.warn(\"tight_layout : falling back to Agg renderer\")\r\n"
     ]
    }
   ],
   "source": [
    "# PD_whole_tree w gg_constrained_tree (Scleractinian-only)\n",
    "collated_alpha_dir = join(output_dir,\"alpha_rarefaction_1000_Scleractinia_only_gg_constrained_tree/alpha_div_collated/\")\n",
    "obs_otus_file = join(collated_alpha_dir,\"PD_whole_tree.txt\")\n",
    "test_cat_output_dir = join(output_dir,\"alpha_rarefaction_1000_Scleractinia_only_gg_constrained_tree_PD_Scleractinian_only_stats\")\n",
    "test_categories = \"BiologicalMatter\"\n",
    "!compare_alpha_diversity.py -i $obs_otus_file -o $test_cat_output_dir -d 1000 -c $test_categories -p fdr -m $mapping"
   ]
  },
  {
   "cell_type": "markdown",
   "metadata": {
    "collapsed": true
   },
   "source": [
    "# Calulate per sample alpha diversity for downstream use"
   ]
  },
  {
   "cell_type": "code",
   "execution_count": null,
   "metadata": {
    "collapsed": true
   },
   "outputs": [],
   "source": [
    "!alpha_diversity.py -i otu_table.biom -m chao1,PD_whole_tree,equitability -o adiv_chao1_pd.txt -t rep_set.tre"
   ]
  },
  {
   "cell_type": "code",
   "execution_count": 6,
   "metadata": {
    "collapsed": false,
    "scrolled": true
   },
   "outputs": [],
   "source": [
    "!alpha_diversity.py -i input/otu_table_mc2_wtax_no_pynast_failures_no_organelles_even1000.biom -m equitability -o output/equitability.txt -t input/rep_set.tre"
   ]
  }
 ],
 "metadata": {
  "kernelspec": {
   "display_name": "Python 2",
   "language": "python",
   "name": "python2"
  },
  "language_info": {
   "codemirror_mode": {
    "name": "ipython",
    "version": 2
   },
   "file_extension": ".py",
   "mimetype": "text/x-python",
   "name": "python",
   "nbconvert_exporter": "python",
   "pygments_lexer": "ipython2",
   "version": "2.7.11"
  }
 },
 "nbformat": 4,
 "nbformat_minor": 0
}
