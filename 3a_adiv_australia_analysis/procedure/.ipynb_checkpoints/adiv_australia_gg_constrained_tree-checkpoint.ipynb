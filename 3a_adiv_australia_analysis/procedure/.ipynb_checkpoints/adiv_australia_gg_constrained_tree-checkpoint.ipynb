{
 "cells": [
  {
   "cell_type": "markdown",
   "metadata": {},
   "source": [
    "##Australia analysis alpha-diversity\n",
    "\n",
    "The goal of this anlysis is to run basic alpha-diversity comparisons for the Australia GCMP dataset.\n",
    "These will include estimates of richness (with obs_species), equitability, and PD for all samples, and alpha_diversity comparisons between compartments, sites, etc."
   ]
  },
  {
   "cell_type": "code",
   "execution_count": 1,
   "metadata": {
    "collapsed": false
   },
   "outputs": [
    {
     "name": "stdout",
     "output_type": "stream",
     "text": [
      "/Users/FJPollock/Dropbox/coral_microbiomes_postdoc/gcmp_osu_psu_shared_folder/coral_microbe_coevolution/Projects/australia_coevolution_paper/16S_analysis/3a_adiv_australia_analysis\n"
     ]
    }
   ],
   "source": [
    "cd .."
   ]
  },
  {
   "cell_type": "code",
   "execution_count": 2,
   "metadata": {
    "collapsed": true
   },
   "outputs": [],
   "source": [
    "#Import libraries\n",
    "from os.path import join,abspath\n",
    "from os import listdir"
   ]
  },
  {
   "cell_type": "code",
   "execution_count": 3,
   "metadata": {
    "collapsed": true
   },
   "outputs": [],
   "source": [
    "#Set file paths\n",
    "input_dir = abspath(\"input/\")\n",
    "#NOTE: this is the rarified OTU table\n",
    "otu_table_1000 = abspath(\"input/otu_table_mc2_wtax_no_pynast_failures_no_organelles_even1000.biom\")\n",
    "otu_table = abspath(\"input/otu_table_mc2_wtax_no_pynast_failures_no_organelles.biom\")\n",
    "tree_fp = abspath(\"input/rep_set.tre\")\n",
    "mapping = abspath(\"input/gcmp16S_map_r19.txt\")\n",
    "output_dir = abspath(\"output/\")\n"
   ]
  },
  {
   "cell_type": "markdown",
   "metadata": {},
   "source": [
    "### Alpha rarefaction\n",
    "First let's calculate overall alpha-diversity rarefaction for the whole dataset.  Later we may want to filter down to mostly the study corals."
   ]
  },
  {
   "cell_type": "code",
   "execution_count": 4,
   "metadata": {
    "collapsed": false
   },
   "outputs": [],
   "source": [
    "curr_output_dir = join(output_dir,\"alpha_rarefaction_1000\")\n",
    "!alpha_rarefaction.py -i $otu_table_1000 -t $tree_fp -m $mapping -o $curr_output_dir -f"
   ]
  },
  {
   "cell_type": "markdown",
   "metadata": {
    "collapsed": true
   },
   "source": [
    "From the alpha rarefaction step we get some interesting results.  There may be minor differences in richness between compartments, but these are not super striking.  Instead, differences betweeen all corals and outgroups seem pretty major (corals are less rich), as do mode_of_larval_reproduction (brooders are indeed less rich),sample_type.\n",
    "\n",
    "So now it's time to run some statistical tests on these categories."
   ]
  },
  {
   "cell_type": "code",
   "execution_count": null,
   "metadata": {
    "collapsed": false
   },
   "outputs": [
    {
     "name": "stdout",
     "output_type": "stream",
     "text": [
      "/macqiime/anaconda/lib/python2.7/site-packages/matplotlib/tight_layout.py:225: UserWarning: tight_layout : falling back to Agg renderer\n",
      "  warnings.warn(\"tight_layout : falling back to Agg renderer\")\n",
      "/macqiime/anaconda/lib/python2.7/site-packages/skbio/draw/_distributions.py:701: RuntimeWarning: Could not automatically resize plot to make room for axes labels and plot title. This can happen if the labels or title are extremely long and the plot size is too small. Your plot may have its labels and/or title cut-off. To fix this, try increasing the plot's size (in inches) and try again.\n",
      "  RuntimeWarning)\n"
     ]
    }
   ],
   "source": [
    "# PD_whole_tree\n",
    "collated_alpha_dir = join(output_dir,\"alpha_rarefaction_1000/alpha_div_collated/\")\n",
    "obs_otus_file = join(collated_alpha_dir,\"PD_whole_tree.txt\")\n",
    "test_cat_output_dir = join(output_dir,\"alpha_rarefaction_1000_stats_PD\")\n",
    "test_categories = \"field_host_clade_sensu_fukami,field_host_genus_id,field_host_name,Huang_Roy_tree_name,NCBI_inherited_blast_name,Mode_of_larval_development,sample_type,BiologicalMatter,reef_name,functional_group_sensu_darling,sediment_contact,binary_macroalgal_contact,binary_turf_contact,dominant_cover_2m\"\n",
    "!compare_alpha_diversity.py -i $obs_otus_file -o $test_cat_output_dir -d 1000 -c $test_categories -p fdr -m $mapping"
   ]
  },
  {
   "cell_type": "code",
   "execution_count": null,
   "metadata": {
    "collapsed": true
   },
   "outputs": [],
   "source": [
    "# observed_otus\n",
    "collated_alpha_dir = join(output_dir,\"alpha_rarefaction_1000/alpha_div_collated/\")\n",
    "obs_otus_file = join(collated_alpha_dir,\"observed_otus.txt\")\n",
    "test_cat_output_dir = join(output_dir,\"alpha_rarefaction_1000_stats_observed_otus\")\n",
    "test_categories = \"field_host_clade_sensu_fukami,field_host_genus_id,field_host_name,Huang_Roy_tree_name,NCBI_inherited_blast_name,Mode_of_larval_development,sample_type,BiologicalMatter,reef_name,functional_group_sensu_darling,sediment_contact,binary_macroalgal_contact,binary_turf_contact,dominant_cover_2m\"\n",
    "!compare_alpha_diversity.py -i $obs_otus_file -o $test_cat_output_dir -d 1000 -c $test_categories -p fdr -m $mapping"
   ]
  },
  {
   "cell_type": "code",
   "execution_count": null,
   "metadata": {
    "collapsed": true
   },
   "outputs": [],
   "source": [
    "# chao1\n",
    "collated_alpha_dir = join(output_dir,\"alpha_rarefaction_1000/alpha_div_collated/\")\n",
    "obs_otus_file = join(collated_alpha_dir,\"chao1.txt\")\n",
    "test_cat_output_dir = join(output_dir,\"alpha_rarefaction_1000_stats_chao1\")\n",
    "test_categories = \"field_host_clade_sensu_fukami,field_host_genus_id,field_host_name,Huang_Roy_tree_name,NCBI_inherited_blast_name,Mode_of_larval_development,sample_type,BiologicalMatter,reef_name,functional_group_sensu_darling,sediment_contact,binary_macroalgal_contact,binary_turf_contact,dominant_cover_2m\"\n",
    "!compare_alpha_diversity.py -i $obs_otus_file -o $test_cat_output_dir -d 1000 -c $test_categories -p fdr -m $mapping"
   ]
  },
  {
   "cell_type": "markdown",
   "metadata": {
    "collapsed": true
   },
   "source": [
    "# Calulate per sample alpha diversity for downstream use"
   ]
  },
  {
   "cell_type": "code",
   "execution_count": null,
   "metadata": {
    "collapsed": true
   },
   "outputs": [],
   "source": [
    "!alpha_diversity.py -i otu_table.biom -m chao1,PD_whole_tree,equitability -o adiv_chao1_pd.txt -t rep_set.tre"
   ]
  },
  {
   "cell_type": "code",
   "execution_count": 6,
   "metadata": {
    "collapsed": false,
    "scrolled": true
   },
   "outputs": [],
   "source": [
    "!alpha_diversity.py -i input/otu_table_mc2_wtax_no_pynast_failures_no_organelles_even1000.biom -m equitability -o output/equitability.txt -t input/rep_set.tre"
   ]
  }
 ],
 "metadata": {
  "kernelspec": {
   "display_name": "Python 2",
   "language": "python",
   "name": "python2"
  },
  "language_info": {
   "codemirror_mode": {
    "name": "ipython",
    "version": 2
   },
   "file_extension": ".py",
   "mimetype": "text/x-python",
   "name": "python",
   "nbconvert_exporter": "python",
   "pygments_lexer": "ipython2",
   "version": "2.7.11"
  }
 },
 "nbformat": 4,
 "nbformat_minor": 0
}
