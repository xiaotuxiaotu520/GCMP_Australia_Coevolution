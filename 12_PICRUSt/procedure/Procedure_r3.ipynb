{
 "cells": [
  {
   "cell_type": "markdown",
   "metadata": {},
   "source": [
    "# PICRUSt predictions for the GCMP data\n",
    "\n",
    "Goal is to generate some KO table predictions for the GCMP data.\n",
    "\n",
    "\n"
   ]
  },
  {
   "cell_type": "code",
   "execution_count": null,
   "metadata": {
    "collapsed": true
   },
   "outputs": [],
   "source": [
    "#Set up the inputs\n",
    "#I copied over the contents of the 1_canonical_starting_files folder on Aug 9 2016 into input.\n",
    "#I also put the rep_set97 from greengenes in there for reference \n",
    "#cp /macqiime/anaconda/lib/python2.7/site-packages/qiime_default_reference/gg_13_8_otus/rep_set/97_otus.fasta ./input/\n",
    "#NOTE: this comes with macqiime, but I figured having it there might make the analysis easier to duplciate on non-macqiime \n",
    "#installations\n"
   ]
  },
  {
   "cell_type": "code",
   "execution_count": 2,
   "metadata": {
    "collapsed": false
   },
   "outputs": [],
   "source": [
    "#Clear output folder\n",
    "\n",
    "#CAUTION: Quoting the below rm command out so no one deletes\n",
    "#output by accident when replicating\n",
    "\n",
    "#!rm -rf ../output/* "
   ]
  },
  {
   "cell_type": "code",
   "execution_count": 13,
   "metadata": {
    "collapsed": false
   },
   "outputs": [],
   "source": [
    "#Import relevant libraries\n",
    "from os.path import join,abspath\n",
    "\n",
    "#First normalize by copy number\n",
    "input_otu_table = \"../input/otu_table_mc2_wtax_no_pynast_failures_no_organelles_even1000.biom\"\n",
    "output_folder = \"../output\"\n",
    "bdiv_prefs_file = \"../input/bdiv_bc_prefs.txt\"\n",
    "mapping_file = \"../input/gcmp16S_map_r23.txt\""
   ]
  },
  {
   "cell_type": "markdown",
   "metadata": {},
   "source": [
    "## Filter out denovo OTUs for PICRUSt\n",
    "The strategy is to filter our 'open reference' OTU table down to the equivalent of a 'closed-reference' table,\n",
    "using the fasta of 97% Greenegenes OTUs as our reference "
   ]
  },
  {
   "cell_type": "code",
   "execution_count": 2,
   "metadata": {
    "collapsed": false
   },
   "outputs": [],
   "source": [
    "filtered_otu_table = join(output_folder,'otu_table_no_organelles_even_1000_gg13_5_only.biom')\n",
    "greengenes_fasta = '../input/97_otus.fasta'\n",
    "\n",
    "!filter_otus_from_otu_table.py -i $input_otu_table -o $filtered_otu_table -e '../input/97_otus.fasta' --negate_ids_to_exclude\n"
   ]
  },
  {
   "cell_type": "code",
   "execution_count": 3,
   "metadata": {
    "collapsed": false
   },
   "outputs": [
    {
     "name": "stdout",
     "output_type": "stream",
     "text": [
      "../output/otu_table_no_organelles_even_1000_gg13_5_only.biom\n",
      "otu_table_no_organelles_even_1000_gg13_5_only.biom\r\n"
     ]
    }
   ],
   "source": [
    "print filtered_otu_table\n",
    "!ls ../output"
   ]
  },
  {
   "cell_type": "code",
   "execution_count": 5,
   "metadata": {
    "collapsed": false
   },
   "outputs": [
    {
     "name": "stdout",
     "output_type": "stream",
     "text": [
      "normalize_by_copy_number.py -i ../output/otu_table_no_organelles_even_1000_gg13_5_only.biom -o ../output/normalized_otu_table_no_organelles_even1000.biom\n"
     ]
    }
   ],
   "source": [
    "#Normalize OTU counts by predicted copy number\n",
    "\n",
    "normalized_otu_table_filename = \"normalized_otu_table_no_organelles_even1000.biom\"\n",
    "normalized_otu_table = join(output_folder,normalized_otu_table_filename)\n",
    "normalize_cmd = \"normalize_by_copy_number.py -i %s -o %s\" %(filtered_otu_table,normalized_otu_table)\n",
    "print normalize_cmd\n",
    "!$normalize_cmd"
   ]
  },
  {
   "cell_type": "code",
   "execution_count": 10,
   "metadata": {
    "collapsed": false
   },
   "outputs": [
    {
     "name": "stdout",
     "output_type": "stream",
     "text": [
      "mkdir: ../output/picrust_ko: File exists\n",
      "mkdir: ../output/picrust_cog: File exists\n"
     ]
    }
   ],
   "source": [
    "output_types = ['ko','cog']\n",
    "output_type_category_md = {'ko':'KEGG_Pathways','cog':'COG_Category'}\n",
    "output_type_category_levels = {'ko':[1,2,3],'cog':[1]}\n",
    "\n",
    "for output_type in output_types:\n",
    "    #Make a prediction folder in output for each prediction type\n",
    "    prediction_folder = join(output_folder,\"picrust_%s\" %output_type)\n",
    "    !mkdir $prediction_folder\n",
    "    prediction_file = join(prediction_folder,\"%s_predictions.biom\" %output_type)\n",
    "    nsti_file = join(prediction_folder,\"%s_nstis.txt\" %output_type)                     \n",
    "    !predict_metagenomes.py -i $normalized_otu_table -o $prediction_file -a $nsti_file -t $output_type\n",
    "    #Decide whether to use KEGG_Pathways or COG_Category\n",
    "    output_type_category = output_type_category_md[output_type]\n",
    "    for level in output_type_category_levels[output_type]:\n",
    "        categorized_file = join(prediction_folder,\"%s_categories_L%i.biom\" %(output_type,level))\n",
    "        categorized_file_tsv = join(prediction_folder,\"%s_categories_L%i.tsv\" %(output_type,level))\n",
    "        !categorize_by_function.py -i $prediction_file -l $level -o $categorized_file --metadata_category $output_type_category\n",
    "        !biom convert --to-tsv -i $categorized_file -o $categorized_file_tsv\n",
    "        "
   ]
  },
  {
   "cell_type": "code",
   "execution_count": null,
   "metadata": {
    "collapsed": true
   },
   "outputs": [],
   "source": [
    "#Checked output as follows:\n",
    "#biom convert -i ko_predictions.biom -o ko_predictions.txt --to-tsv --tsv-metadata-formatter naive --header-key KEGG_Pathways\n"
   ]
  },
  {
   "cell_type": "code",
   "execution_count": 11,
   "metadata": {
    "collapsed": false
   },
   "outputs": [
    {
     "name": "stdout",
     "output_type": "stream",
     "text": [
      "/macqiime/anaconda/lib/python2.7/site-packages/numpy/core/fromnumeric.py:2652: VisibleDeprecationWarning: `rank` is deprecated; use the `ndim` attribute or function instead. To find the rank of a matrix see `numpy.linalg.matrix_rank`.\n",
      "  VisibleDeprecationWarning)\n",
      "/macqiime/anaconda/lib/python2.7/site-packages/skbio/stats/ordination/_principal_coordinate_analysis.py:107: RuntimeWarning: The result contains negative eigenvalues. Please compare their magnitude with the magnitude of some of the largest positive eigenvalues. If the negative ones are smaller, it's probably safe to ignore them, but if they are large in magnitude, the results won't be useful. See the Notes section for more details. The smallest eigenvalue is -0.211440951834 and the largest is 17.2591663079.\n",
      "  RuntimeWarning\n",
      "/macqiime/anaconda/lib/python2.7/site-packages/numpy/core/fromnumeric.py:2652: VisibleDeprecationWarning: `rank` is deprecated; use the `ndim` attribute or function instead. To find the rank of a matrix see `numpy.linalg.matrix_rank`.\n",
      "  VisibleDeprecationWarning)\n",
      "/macqiime/anaconda/lib/python2.7/site-packages/skbio/stats/ordination/_principal_coordinate_analysis.py:107: RuntimeWarning: The result contains negative eigenvalues. Please compare their magnitude with the magnitude of some of the largest positive eigenvalues. If the negative ones are smaller, it's probably safe to ignore them, but if they are large in magnitude, the results won't be useful. See the Notes section for more details. The smallest eigenvalue is -0.15419432077 and the largest is 16.7120994573.\n",
      "  RuntimeWarning\n"
     ]
    }
   ],
   "source": [
    "#Beta-diversity ordinations by each predicted function type\n",
    "\n",
    "output_types = ['ko','cog']\n",
    "for output_type in output_types:\n",
    "    prediction_folder = join(output_folder,\"picrust_%s\" %output_type)\n",
    "    prediction_file = join(prediction_folder,\"%s_predictions.biom\" %output_type)\n",
    "    bdiv_folder = prediction_file + \"_bray_curtis_results\"\n",
    "    !beta_diversity_through_plots.py  -i $prediction_file -o $bdiv_folder -p $bdiv_prefs_file -m $mapping_file -f\n",
    "    #Seeing a lot of horseshoe effects mapping to an unclear metadata category in bdiv results\n",
    "    curr_pc_file = join(bdiv_folder,'bray_curtis_pc.txt')\n",
    "    #Needed currently because of QIIME issue in detrend.py  \n",
    "    #see https://github.com/biocore/qiime/issues/2035\n",
    "    \n",
    "    reformatted_pc_file = join(bdiv_folder,'bray_curtis_pc_formatted.txt')\n",
    "    !python ./convert_pc_format.py $curr_pc_file $reformatted_pc_file\n",
    "    \n",
    "    #Now we detrend in an unsupervised manner\n",
    "    new_pc_folder = join(bdiv_folder,'bray_curtis_pc_detrended')\n",
    "    !detrend.py -i $reformatted_pc_file -o $new_pc_folder \n",
    "    detrended_pcoa = join(new_pc_folder,\"detrended_pcoa.txt\")\n",
    "    \n",
    "    #I really wanted to make a detrended emperor plot, but it looks like the detrended pcoas a) have only\n",
    "    #PC 1 and 2, and b) don't have the proper headers about eigenvalues etc to work in emperor.\n",
    "    #I think I can still at least check a few explicit variables to see if they explain the trend\n",
    "    \n",
    "    #Can also try NMDS.  Why not?\n",
    "    distance_matrix = join(bdiv_folder,\"bray_curtis_dm.txt\")\n",
    "    nmds_output = join(bdiv_folder,\"bray_curtis_nmds\")\n",
    "    !nmds.py -i $distance_matrix -o $nmds_output\n",
    "    \n",
    "    \n",
    "    \n",
    "    \n",
    "   "
   ]
  },
  {
   "cell_type": "markdown",
   "metadata": {},
   "source": [
    "##Machine learning on functional groups"
   ]
  },
  {
   "cell_type": "code",
   "execution_count": 15,
   "metadata": {
    "collapsed": false
   },
   "outputs": [],
   "source": [
    "\n",
    "for predicted_cat in ['functional_group_sensu_darling','host_genus_id','BiologicalMatter']:\n",
    "    for output_type in output_types:\n",
    "        prediction_folder = join(output_folder,\"picrust_%s\" %output_type)\n",
    "        prediction_file = join(prediction_folder,\"%s_predictions.biom\" %output_type)\n",
    "        random_forest_functional_group_dir = join(prediction_folder,\"random_forest_%s_%s\"%(predicted_cat,output_type))\n",
    "        #NOTE: temporarily commenting this out while rerunning\n",
    "        !supervised_learning.py -i $prediction_file -o $random_forest_functional_group_dir -c $predicted_cat -m $mapping_file -f\n",
    "        if output_type == 'ko':\n",
    "            levels = [1,2,3]\n",
    "        elif output_type == 'cog':\n",
    "            levels = [1]\n",
    "        for level in levels:\n",
    "            prediction_file = join(prediction_folder,\"%s_categories_L%i.biom\"%(output_type,level))\n",
    "            random_forest_functional_group_dir = join(prediction_folder,\"random_forest_%s_%s_%i\"%(predicted_cat,output_type,level))\n",
    "            !supervised_learning.py -i $prediction_file -o $random_forest_functional_group_dir -c $predicted_cat -m $mapping_file -f\n",
    "            "
   ]
  },
  {
   "cell_type": "code",
   "execution_count": null,
   "metadata": {
    "collapsed": true
   },
   "outputs": [],
   "source": []
  }
 ],
 "metadata": {
  "kernelspec": {
   "display_name": "Python 2",
   "language": "python",
   "name": "python2"
  },
  "language_info": {
   "codemirror_mode": {
    "name": "ipython",
    "version": 2
   },
   "file_extension": ".py",
   "mimetype": "text/x-python",
   "name": "python",
   "nbconvert_exporter": "python",
   "pygments_lexer": "ipython2",
   "version": "2.7.12"
  }
 },
 "nbformat": 4,
 "nbformat_minor": 0
}
