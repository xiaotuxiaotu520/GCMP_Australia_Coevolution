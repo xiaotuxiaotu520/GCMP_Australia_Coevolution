{
 "cells": [
  {
   "cell_type": "code",
   "execution_count": 1,
   "metadata": {
    "collapsed": false
   },
   "outputs": [
    {
     "data": {
      "text/html": [
       "'/Volumes/Macintosh_HDD/Dropbox/Coral_Microbiomes_Postdoc/GCMP_OSU_PSU_Shared_Folder/Coral_microbe_coevolution/Projects/Australia_Coevolution_Paper/16S_analysis/7_microbiomes_w_coral_size_lat'"
      ],
      "text/latex": [
       "'/Volumes/Macintosh_HDD/Dropbox/Coral_Microbiomes_Postdoc/GCMP_OSU_PSU_Shared_Folder/Coral_microbe_coevolution/Projects/Australia_Coevolution_Paper/16S_analysis/7_microbiomes_w_coral_size_lat'"
      ],
      "text/markdown": [
       "'/Volumes/Macintosh_HDD/Dropbox/Coral_Microbiomes_Postdoc/GCMP_OSU_PSU_Shared_Folder/Coral_microbe_coevolution/Projects/Australia_Coevolution_Paper/16S_analysis/7_microbiomes_w_coral_size_lat'"
      ],
      "text/plain": [
       "[1] \"/Volumes/Macintosh_HDD/Dropbox/Coral_Microbiomes_Postdoc/GCMP_OSU_PSU_Shared_Folder/Coral_microbe_coevolution/Projects/Australia_Coevolution_Paper/16S_analysis/7_microbiomes_w_coral_size_lat\""
      ]
     },
     "execution_count": 1,
     "metadata": {},
     "output_type": "execute_result"
    }
   ],
   "source": [
    "setwd('..')\n",
    "getwd()\n",
    "library(ggplot2)"
   ]
  },
  {
   "cell_type": "code",
   "execution_count": 2,
   "metadata": {
    "collapsed": true
   },
   "outputs": [],
   "source": [
    "library(ggplot2)\n",
    "library(svglite)\n",
    "library(gridExtra)\n",
    "library(grid)"
   ]
  },
  {
   "cell_type": "code",
   "execution_count": 3,
   "metadata": {
    "collapsed": true
   },
   "outputs": [],
   "source": [
    "#Define function to ensure plots are a consistent size (useful for overlay, multipanels, etc)\n",
    "set_panel_size <- function(p=NULL, g=ggplotGrob(p), file=NULL, \n",
    "                           margin = unit(1,\"mm\"),\n",
    "                           width=unit(4, \"cm\"), \n",
    "                           height=unit(4, \"cm\")){\n",
    "\n",
    "  panels <- grep(\"panel\", g$layout$name)\n",
    "  panel_index_w<- unique(g$layout$l[panels])\n",
    "  panel_index_h<- unique(g$layout$t[panels])\n",
    "  nw <- length(panel_index_w)\n",
    "  nh <- length(panel_index_h)\n",
    "\n",
    "if(getRversion() < \"3.3.0\"){\n",
    "\n",
    "   # the following conversion is necessary\n",
    "   # because there is no `[<-`.unit method\n",
    "   # so promoting to unit.list allows standard list indexing\n",
    "   g$widths <- grid:::unit.list(g$widths)\n",
    "   g$heights <- grid:::unit.list(g$heights)\n",
    "\n",
    "   g$widths[panel_index_w] <-  rep(list(width),  nw)\n",
    "   g$heights[panel_index_h] <- rep(list(height), nh)\n",
    "\n",
    "} else {\n",
    "\n",
    "   g$widths[panel_index_w] <-  rep(width,  nw)\n",
    "   g$heights[panel_index_h] <- rep(height, nh)\n",
    "\n",
    "}\n",
    "\n",
    "  if(!is.null(file))\n",
    "    ggsave(file, g, \n",
    "           width = convertWidth(sum(g$widths) + margin, \n",
    "                                unitTo = \"in\", valueOnly = TRUE),\n",
    "           height = convertHeight(sum(g$heights) + margin,  \n",
    "                                  unitTo = \"in\", valueOnly = TRUE))\n",
    "\n",
    "  g\n",
    "}"
   ]
  },
  {
   "cell_type": "code",
   "execution_count": 4,
   "metadata": {
    "collapsed": false
   },
   "outputs": [
    {
     "data": {
      "text/html": [
       "<table>\n",
       "<thead><tr><th></th><th scope=col>X.SampleID</th><th scope=col>PD_whole_tree</th><th scope=col>observed_otus</th><th scope=col>Chao1</th><th scope=col>SampleID</th><th scope=col>BarcodeSequence</th><th scope=col>runID</th><th scope=col>sequence_center_ID</th><th scope=col>sequence_center_ID_base</th><th scope=col>collection_id</th><th scope=col>ellip.h</th><th scope=col>collected_by</th><th scope=col>relevant_collaborators</th><th scope=col>visibility</th><th scope=col>visibility_method</th><th scope=col>env_biome</th><th scope=col>env_feature</th><th scope=col>prop_Colony_maximum_GCMP_recorded</th><th scope=col>prop_Colony_maximum_diameter_universal</th><th scope=col>prop_Colony_maximum_diameter</th><th scope=col>Description</th></tr></thead>\n",
       "<tbody>\n",
       "\t<tr><th scope=row>1</th><td>E1.6.Iso.pali.1.20140803.M.2</td><td>37.90184</td><td>222</td><td>558.6</td><td>E1.6.Iso.pali.1.20140803.M.2</td><td>TACACAGTAG</td><td>ALVCP</td><td>Pollock117</td><td>Pollock117</td><td>Unknown</td><td>⋯</td><td>Unknown</td><td>Unknown</td><td>Unknown</td><td>Unknown</td><td>Unknown</td><td>Unknown</td><td>Unknown</td><td>Unknown</td><td>Unknown</td><td>Unknown</td></tr>\n",
       "\t<tr><th scope=row>2</th><td>E1.6.Iso.pali.1.20140803.S.2</td><td>43.177</td><td>275</td><td>541.1429</td><td>E1.6.Iso.pali.1.20140803.S.2</td><td>CAGTCTACAT</td><td>ALVCP</td><td>Pollock119</td><td>Pollock119</td><td>Unknown</td><td>⋯</td><td>Unknown</td><td>Unknown</td><td>Unknown</td><td>Unknown</td><td>Unknown</td><td>Unknown</td><td>Unknown</td><td>Unknown</td><td>Unknown</td><td>Unknown</td></tr>\n",
       "\t<tr><th scope=row>3</th><td>E1.6.Iso.pali.1.20140803.T.2</td><td>11.77071</td><td>72</td><td>237</td><td>E1.6.Iso.pali.1.20140803.T.2</td><td>TACTGCAGCG</td><td>ALVCP</td><td>Pollock118</td><td>Pollock118</td><td>Unknown</td><td>⋯</td><td>Unknown</td><td>Unknown</td><td>Unknown</td><td>Unknown</td><td>Unknown</td><td>Unknown</td><td>Unknown</td><td>Unknown</td><td>Unknown</td><td>Unknown</td></tr>\n",
       "\t<tr><th scope=row>4</th><td>E10.Sed.1.20150627</td><td>74.79289</td><td>614</td><td>2318.721</td><td>E10.Sed.1.20150627</td><td>GATGTAGCGT</td><td>AN5UL</td><td>Pollock377_LH_268_SED</td><td>Pollock377</td><td>North_Bay_20150627</td><td>⋯</td><td>Joe_Pollock</td><td>Unknown</td><td>20</td><td>Diver_Estimate</td><td>coral_reef</td><td>animal-associated_habitat</td><td>Unknown</td><td>Unknown</td><td>Unknown</td><td>None</td></tr>\n",
       "\t<tr><th scope=row>5</th><td>E10.Sed.1.20150628</td><td>86.31142</td><td>647</td><td>2820.015</td><td>E10.Sed.1.20150628</td><td>GTATCGTCGT</td><td>ALVCP</td><td>Pollock8</td><td>Pollock8</td><td>North_Bay_20150628</td><td>⋯</td><td>Joe_Pollock</td><td>Unknown</td><td>20</td><td>Diver_Estimate</td><td>coral_reef</td><td>animal-associated_habitat</td><td>Unknown</td><td>Unknown</td><td>Unknown</td><td>None</td></tr>\n",
       "\t<tr><th scope=row>6</th><td>E10.Sed.1.20150630</td><td>77.96732</td><td>633</td><td>1653.509</td><td>E10.Sed.1.20150630</td><td>TCTCTGTGCA</td><td>AN5UL</td><td>Pollock419_LH_305_SED</td><td>Pollock419</td><td>Far_Flats_20150630</td><td>⋯</td><td>Joe_Pollock</td><td>Unknown</td><td>15</td><td>Diver_Estimate</td><td>coral_reef</td><td>animal-associated_habitat</td><td>Unknown</td><td>Unknown</td><td>Unknown</td><td>None</td></tr>\n",
       "</tbody>\n",
       "</table>\n"
      ],
      "text/latex": [
       "\\begin{tabular}{r|llllllllllllllllllllllllllllllllllllllllllllllllllllllllllllllllllllllllllllllllllllllllllllllllllllllllllllllllllllllllllllllllllllllllllllllllllllllllllllll}\n",
       "  & X.SampleID & PD_whole_tree & observed_otus & Chao1 & SampleID & BarcodeSequence & runID & sequence_center_ID & sequence_center_ID_base & collection_id & ellip.h & collected_by & relevant_collaborators & visibility & visibility_method & env_biome & env_feature & prop_Colony_maximum_GCMP_recorded & prop_Colony_maximum_diameter_universal & prop_Colony_maximum_diameter & Description\\\\\n",
       "\\hline\n",
       "\t1 & E1.6.Iso.pali.1.20140803.M.2 & 37.90184 & 222 & 558.6 & E1.6.Iso.pali.1.20140803.M.2 & TACACAGTAG & ALVCP & Pollock117 & Pollock117 & Unknown & ⋯ & Unknown & Unknown & Unknown & Unknown & Unknown & Unknown & Unknown & Unknown & Unknown & Unknown\\\\\n",
       "\t2 & E1.6.Iso.pali.1.20140803.S.2 & 43.177 & 275 & 541.1429 & E1.6.Iso.pali.1.20140803.S.2 & CAGTCTACAT & ALVCP & Pollock119 & Pollock119 & Unknown & ⋯ & Unknown & Unknown & Unknown & Unknown & Unknown & Unknown & Unknown & Unknown & Unknown & Unknown\\\\\n",
       "\t3 & E1.6.Iso.pali.1.20140803.T.2 & 11.77071 & 72 & 237 & E1.6.Iso.pali.1.20140803.T.2 & TACTGCAGCG & ALVCP & Pollock118 & Pollock118 & Unknown & ⋯ & Unknown & Unknown & Unknown & Unknown & Unknown & Unknown & Unknown & Unknown & Unknown & Unknown\\\\\n",
       "\t4 & E10.Sed.1.20150627 & 74.79289 & 614 & 2318.721 & E10.Sed.1.20150627 & GATGTAGCGT & AN5UL & Pollock377_LH_268_SED & Pollock377 & North_Bay_20150627 & ⋯ & Joe_Pollock & Unknown & 20 & Diver_Estimate & coral_reef & animal-associated_habitat & Unknown & Unknown & Unknown & None\\\\\n",
       "\t5 & E10.Sed.1.20150628 & 86.31142 & 647 & 2820.015 & E10.Sed.1.20150628 & GTATCGTCGT & ALVCP & Pollock8 & Pollock8 & North_Bay_20150628 & ⋯ & Joe_Pollock & Unknown & 20 & Diver_Estimate & coral_reef & animal-associated_habitat & Unknown & Unknown & Unknown & None\\\\\n",
       "\t6 & E10.Sed.1.20150630 & 77.96732 & 633 & 1653.509 & E10.Sed.1.20150630 & TCTCTGTGCA & AN5UL & Pollock419_LH_305_SED & Pollock419 & Far_Flats_20150630 & ⋯ & Joe_Pollock & Unknown & 15 & Diver_Estimate & coral_reef & animal-associated_habitat & Unknown & Unknown & Unknown & None\\\\\n",
       "\\end{tabular}\n"
      ],
      "text/plain": [
       "                    X.SampleID PD_whole_tree observed_otus     Chao1\n",
       "1 E1.6.Iso.pali.1.20140803.M.2      37.90184           222  558.6000\n",
       "2 E1.6.Iso.pali.1.20140803.S.2      43.17700           275  541.1429\n",
       "3 E1.6.Iso.pali.1.20140803.T.2      11.77071            72  237.0000\n",
       "4           E10.Sed.1.20150627      74.79289           614 2318.7206\n",
       "5           E10.Sed.1.20150628      86.31142           647 2820.0154\n",
       "6           E10.Sed.1.20150630      77.96732           633 1653.5093\n",
       "                      SampleID BarcodeSequence runID    sequence_center_ID\n",
       "1 E1.6.Iso.pali.1.20140803.M.2      TACACAGTAG ALVCP            Pollock117\n",
       "2 E1.6.Iso.pali.1.20140803.S.2      CAGTCTACAT ALVCP            Pollock119\n",
       "3 E1.6.Iso.pali.1.20140803.T.2      TACTGCAGCG ALVCP            Pollock118\n",
       "4           E10.Sed.1.20150627      GATGTAGCGT AN5UL Pollock377_LH_268_SED\n",
       "5           E10.Sed.1.20150628      GTATCGTCGT ALVCP              Pollock8\n",
       "6           E10.Sed.1.20150630      TCTCTGTGCA AN5UL Pollock419_LH_305_SED\n",
       "  sequence_center_ID_base      collection_id    date concatenated_date\n",
       "1              Pollock117            Unknown Unknown           Unknown\n",
       "2              Pollock119            Unknown Unknown           Unknown\n",
       "3              Pollock118            Unknown Unknown           Unknown\n",
       "4              Pollock377 North_Bay_20150627 6/27/15          20150627\n",
       "5                Pollock8 North_Bay_20150628 6/28/15          20150628\n",
       "6              Pollock419 Far_Flats_20150630 6/30/15          20150630\n",
       "  reef_name collection_time   collection_timestamp daily_replicate    latitude\n",
       "1   Unknown         Unknown                Unknown         Unknown     Unknown\n",
       "2   Unknown         Unknown                Unknown         Unknown     Unknown\n",
       "3   Unknown         Unknown                Unknown         Unknown     Unknown\n",
       "4 North_Bay      9:00:00_AM  6/27/2015__9:00:00_AM               1   -31.52135\n",
       "5 North_Bay      9:10:00_AM  6/28/2015__9:10:00_AM               1   -31.52135\n",
       "6 Far_Flats     12:10:00_PM 6/30/2015__12:10:00_PM               1 -31.5617667\n",
       "    longitude substrate   depth temperature salinity  oxygen\n",
       "1     Unknown   Unknown Unknown     Unknown  Unknown Unknown\n",
       "2     Unknown   Unknown Unknown     Unknown  Unknown Unknown\n",
       "3     Unknown   Unknown Unknown     Unknown  Unknown Unknown\n",
       "4 159.0467333      None     1.3          21  Unknown Unknown\n",
       "5 159.0467333      None     1.2          21  Unknown Unknown\n",
       "6   159.07475      None     1.3          21  Unknown Unknown\n",
       "  photosynthetically_active_radiation PAR_method dna_extracted\n",
       "1                             Unknown    Unknown       Unknown\n",
       "2                             Unknown    Unknown       Unknown\n",
       "3                             Unknown    Unknown       Unknown\n",
       "4                             Unknown       None             n\n",
       "5                             Unknown       None             n\n",
       "6                             Unknown       None             n\n",
       "  physical_samp_avail_now                       physical_sample_location\n",
       "1                 Unknown                                        Unknown\n",
       "2                 Unknown                                        Unknown\n",
       "3                 Unknown                                        Unknown\n",
       "4                       y Medina_Lab,_Penn_State,_USA_can_be_reextracted\n",
       "5                       y Medina_Lab,_Penn_State,_USA_can_be_reextracted\n",
       "6                       y Medina_Lab,_Penn_State,_USA_can_be_reextracted\n",
       "    sample_type     env_matter local_colony_name contact_description\n",
       "1       Unknown        Unknown           Unknown             Unknown\n",
       "2       Unknown        Unknown           Unknown             Unknown\n",
       "3       Unknown        Unknown           Unknown             Unknown\n",
       "4 Reef_Sediment sandy_sediment            WA_268                None\n",
       "5 Reef_Sediment sandy_sediment            LH_281                None\n",
       "6 Reef_Sediment sandy_sediment            LH_305                None\n",
       "  local_sample_id Symbio_ITS2_sequenced field_host_name field_host_genus_id\n",
       "1         Unknown               Unknown         Unknown             Unknown\n",
       "2         Unknown               Unknown         Unknown             Unknown\n",
       "3         Unknown               Unknown         Unknown             Unknown\n",
       "4          WA_268                        not_applicable      not_applicable\n",
       "5          LH_281                        not_applicable      not_applicable\n",
       "6          LH_305                        not_applicable      not_applicable\n",
       "  field_host_species_id    colony_name dominant_cover_2m   depth_method\n",
       "1               Unknown        Unknown           Unknown        Unknown\n",
       "2               Unknown        Unknown           Unknown        Unknown\n",
       "3               Unknown        Unknown           Unknown        Unknown\n",
       "4        not_applicable not_applicable    not_applicable not_applicable\n",
       "5        not_applicable not_applicable    not_applicable not_applicable\n",
       "6        not_applicable not_applicable    not_applicable not_applicable\n",
       "  colony_height_m  colony_width1  colony_width2 colony_width_max    coral_color\n",
       "1         Unknown        Unknown        Unknown          Unknown        Unknown\n",
       "2         Unknown        Unknown        Unknown          Unknown        Unknown\n",
       "3         Unknown        Unknown        Unknown          Unknown        Unknown\n",
       "4  not_applicable not_applicable not_applicable          Unknown not_applicable\n",
       "5  not_applicable not_applicable not_applicable          Unknown not_applicable\n",
       "6  not_applicable not_applicable not_applicable          Unknown not_applicable\n",
       "  coral_color_additional binary_tissue_loss tissue_loss_percent   disease_name\n",
       "1                Unknown            Unknown             Unknown        Unknown\n",
       "2                Unknown            Unknown             Unknown        Unknown\n",
       "3                Unknown            Unknown             Unknown        Unknown\n",
       "4         not_applicable     not_applicable      not_applicable not_applicable\n",
       "5         not_applicable     not_applicable      not_applicable not_applicable\n",
       "6         not_applicable     not_applicable      not_applicable not_applicable\n",
       "  binary_disease disease_percent cyanobacteria_contact cyanobacteria_percent\n",
       "1        Unknown         Unknown               Unknown               Unknown\n",
       "2        Unknown         Unknown               Unknown               Unknown\n",
       "3        Unknown         Unknown               Unknown               Unknown\n",
       "4 not_applicable  not_applicable        not_applicable        not_applicable\n",
       "5 not_applicable  not_applicable        not_applicable        not_applicable\n",
       "6 not_applicable  not_applicable        not_applicable        not_applicable\n",
       "  cyanobacteria_overgrown binary_turf_contact turf_contact_percent\n",
       "1                 Unknown             Unknown              Unknown\n",
       "2                 Unknown             Unknown              Unknown\n",
       "3                 Unknown             Unknown              Unknown\n",
       "4          not_applicable      not_applicable       not_applicable\n",
       "5          not_applicable      not_applicable       not_applicable\n",
       "6          not_applicable      not_applicable       not_applicable\n",
       "  turf_overgrown binary_algal_contact n_algal_contacts algal_contact_types\n",
       "1        Unknown              Unknown          Unknown             Unknown\n",
       "2        Unknown              Unknown          Unknown             Unknown\n",
       "3        Unknown              Unknown          Unknown             Unknown\n",
       "4 not_applicable       not_applicable   not_applicable      not_applicable\n",
       "5 not_applicable       not_applicable   not_applicable      not_applicable\n",
       "6 not_applicable       not_applicable   not_applicable      not_applicable\n",
       "  binary_macroalgal_contact n_macroalgal_contacts macroalgal_contact_types\n",
       "1                   Unknown               Unknown                  Unknown\n",
       "2                   Unknown               Unknown                  Unknown\n",
       "3                   Unknown               Unknown                  Unknown\n",
       "4            not_applicable        not_applicable           not_applicable\n",
       "5            not_applicable        not_applicable           not_applicable\n",
       "6            not_applicable        not_applicable           not_applicable\n",
       "  binary_CCA_contact cca_contact_percent  cca_overgrown seagrass_contact\n",
       "1            Unknown             Unknown        Unknown          Unknown\n",
       "2            Unknown             Unknown        Unknown          Unknown\n",
       "3            Unknown             Unknown        Unknown          Unknown\n",
       "4     not_applicable      not_applicable not_applicable   not_applicable\n",
       "5     not_applicable      not_applicable not_applicable   not_applicable\n",
       "6     not_applicable      not_applicable not_applicable   not_applicable\n",
       "  parrotfish_bites invertebrate_contact_types coral_contact_types\n",
       "1          Unknown                    Unknown             Unknown\n",
       "2          Unknown                    Unknown             Unknown\n",
       "3          Unknown                    Unknown             Unknown\n",
       "4   not_applicable             not_applicable      not_applicable\n",
       "5   not_applicable             not_applicable      not_applicable\n",
       "6   not_applicable             not_applicable      not_applicable\n",
       "  sediment_contact biological_sample_notes tissue_compartment\n",
       "1          Unknown                 Unknown            Unknown\n",
       "2          Unknown                 Unknown            Unknown\n",
       "3          Unknown                 Unknown            Unknown\n",
       "4   not_applicable          not_applicable     not_applicable\n",
       "5   not_applicable          not_applicable     not_applicable\n",
       "6   not_applicable          not_applicable     not_applicable\n",
       "  compartment_replicates skeletal_band_color compartment_separation_notes\n",
       "1                Unknown             Unknown                      Unknown\n",
       "2                Unknown             Unknown                      Unknown\n",
       "3                Unknown             Unknown                      Unknown\n",
       "4         not_applicable      not_applicable               not_applicable\n",
       "5         not_applicable      not_applicable               not_applicable\n",
       "6         not_applicable      not_applicable               not_applicable\n",
       "  BiologicalMatter          TITLE field_host_clade_sensu_fukami_numeric\n",
       "1          Unknown        Unknown                               Unknown\n",
       "2          Unknown        Unknown                               Unknown\n",
       "3          Unknown        Unknown                               Unknown\n",
       "4   not_applicable not_applicable                        not_applicable\n",
       "5   not_applicable not_applicable                        not_applicable\n",
       "6   not_applicable not_applicable                        not_applicable\n",
       "  field_host_clade_sensu_fukami       TAXON_ID Huang_Roy_tree_name\n",
       "1                       Unknown        Unknown             Unknown\n",
       "2                       Unknown        Unknown             Unknown\n",
       "3                       Unknown        Unknown             Unknown\n",
       "4                not_applicable not_applicable      not_applicable\n",
       "5                not_applicable not_applicable      not_applicable\n",
       "6                not_applicable not_applicable      not_applicable\n",
       "  NCBI_inherited_blast_name full_taxonomy_string_with_clade\n",
       "1                   Unknown                         Unknown\n",
       "2                   Unknown                         Unknown\n",
       "3                   Unknown                         Unknown\n",
       "4            not_applicable                  not_applicable\n",
       "5            not_applicable                  not_applicable\n",
       "6            not_applicable                  not_applicable\n",
       "  taxonomy_string_to_clade taxonomy_string_to_family taxonomy_string_to_order\n",
       "1                  Unknown                   Unknown                  Unknown\n",
       "2                  Unknown                   Unknown                  Unknown\n",
       "3                  Unknown                   Unknown                  Unknown\n",
       "4           not_applicable            not_applicable           not_applicable\n",
       "5           not_applicable            not_applicable           not_applicable\n",
       "6           not_applicable            not_applicable           not_applicable\n",
       "  complex_robust         family       outgroup    common_name       synonyms\n",
       "1        Unknown        Unknown        Unknown        Unknown        Unknown\n",
       "2        Unknown        Unknown        Unknown        Unknown        Unknown\n",
       "3        Unknown        Unknown        Unknown        Unknown        Unknown\n",
       "4 not_applicable not_applicable not_applicable not_applicable not_applicable\n",
       "5 not_applicable not_applicable not_applicable not_applicable not_applicable\n",
       "6 not_applicable not_applicable not_applicable not_applicable not_applicable\n",
       "   species_notes functional_group_sensu_darling  Abundance_GBR Abundance_world\n",
       "1        Unknown                        Unknown        Unknown         Unknown\n",
       "2        Unknown                        Unknown        Unknown         Unknown\n",
       "3        Unknown                        Unknown        Unknown         Unknown\n",
       "4 not_applicable                 not_applicable not_applicable  not_applicable\n",
       "5 not_applicable                 not_applicable not_applicable  not_applicable\n",
       "6 not_applicable                 not_applicable not_applicable  not_applicable\n",
       "     Coloniality Colony_maximum_diameter Colony_maximum_GCMP_recorded\n",
       "1        Unknown                 Unknown                      Unknown\n",
       "2        Unknown                 Unknown                      Unknown\n",
       "3        Unknown                 Unknown                      Unknown\n",
       "4 not_applicable          not_applicable                      Unknown\n",
       "5 not_applicable          not_applicable                      Unknown\n",
       "6 not_applicable          not_applicable                      Unknown\n",
       "  Colony_maximum_diameter_universal Corallite_width_maximum_unit\n",
       "1                           Unknown                      Unknown\n",
       "2                           Unknown                      Unknown\n",
       "3                           Unknown                      Unknown\n",
       "4                           Unknown               not_applicable\n",
       "5                           Unknown               not_applicable\n",
       "6                           Unknown               not_applicable\n",
       "  Corallite_width_minimum Corallite_width_minimum_unit    Depth_lower\n",
       "1                 Unknown                      Unknown        Unknown\n",
       "2                 Unknown                      Unknown        Unknown\n",
       "3                 Unknown                      Unknown        Unknown\n",
       "4          not_applicable               not_applicable not_applicable\n",
       "5          not_applicable               not_applicable not_applicable\n",
       "6          not_applicable               not_applicable not_applicable\n",
       "  Depth_lower_unit    Depth_upper Depth_upper_unit Eastern.most_range_edge\n",
       "1          Unknown        Unknown          Unknown                 Unknown\n",
       "2          Unknown        Unknown          Unknown                 Unknown\n",
       "3          Unknown        Unknown          Unknown                 Unknown\n",
       "4   not_applicable not_applicable   not_applicable          not_applicable\n",
       "5   not_applicable not_applicable   not_applicable          not_applicable\n",
       "6   not_applicable not_applicable   not_applicable          not_applicable\n",
       "  Genus_fossil_age Genus_fossil_age_unit Growth_form_typical\n",
       "1          Unknown               Unknown             Unknown\n",
       "2          Unknown               Unknown             Unknown\n",
       "3          Unknown               Unknown             Unknown\n",
       "4   not_applicable        not_applicable      not_applicable\n",
       "5   not_applicable        not_applicable      not_applicable\n",
       "6   not_applicable        not_applicable      not_applicable\n",
       "  Growth_outline_type IUCN_Red_List_category Mode_of_larval_development\n",
       "1             Unknown                Unknown                    Unknown\n",
       "2             Unknown                Unknown                    Unknown\n",
       "3             Unknown                Unknown                    Unknown\n",
       "4      not_applicable         not_applicable             not_applicable\n",
       "5      not_applicable         not_applicable             not_applicable\n",
       "6      not_applicable         not_applicable             not_applicable\n",
       "  Northern.most_range_edge Oocyte_size_at_maturity Oocyte_size_at_maturity_unit\n",
       "1                  Unknown                 Unknown                      Unknown\n",
       "2                  Unknown                 Unknown                      Unknown\n",
       "3                  Unknown                 Unknown                      Unknown\n",
       "4           not_applicable          not_applicable               not_applicable\n",
       "5           not_applicable          not_applicable               not_applicable\n",
       "6           not_applicable          not_applicable               not_applicable\n",
       "  Propagule_size_on_release_max Propagule_size_on_release_max_unit\n",
       "1                       Unknown                            Unknown\n",
       "2                       Unknown                            Unknown\n",
       "3                       Unknown                            Unknown\n",
       "4                not_applicable                     not_applicable\n",
       "5                not_applicable                     not_applicable\n",
       "6                not_applicable                     not_applicable\n",
       "  Propagule_size_on_release_mean Propagule_size_on_release_mean_unit\n",
       "1                        Unknown                             Unknown\n",
       "2                        Unknown                             Unknown\n",
       "3                        Unknown                             Unknown\n",
       "4                 not_applicable                      not_applicable\n",
       "5                 not_applicable                      not_applicable\n",
       "6                 not_applicable                      not_applicable\n",
       "      Range_size Range_size_unit  Sexual_system Skeletal_density\n",
       "1        Unknown         Unknown        Unknown          Unknown\n",
       "2        Unknown         Unknown        Unknown          Unknown\n",
       "3        Unknown         Unknown        Unknown          Unknown\n",
       "4 not_applicable  not_applicable not_applicable   not_applicable\n",
       "5 not_applicable  not_applicable not_applicable   not_applicable\n",
       "6 not_applicable  not_applicable not_applicable   not_applicable\n",
       "  Skeletal_density_unit Southern.most_range_edge Species_age_phylogeny\n",
       "1               Unknown                  Unknown               Unknown\n",
       "2               Unknown                  Unknown               Unknown\n",
       "3               Unknown                  Unknown               Unknown\n",
       "4        not_applicable           not_applicable        not_applicable\n",
       "5        not_applicable           not_applicable        not_applicable\n",
       "6        not_applicable           not_applicable        not_applicable\n",
       "  Species_age_phylogeny_unit Substrate_attachment\n",
       "1                    Unknown              Unknown\n",
       "2                    Unknown              Unknown\n",
       "3                    Unknown              Unknown\n",
       "4             not_applicable       not_applicable\n",
       "5             not_applicable       not_applicable\n",
       "6             not_applicable       not_applicable\n",
       "  Symbiodinium_sp._in_propagules Water_clarity_preference\n",
       "1                        Unknown                  Unknown\n",
       "2                        Unknown                  Unknown\n",
       "3                        Unknown                  Unknown\n",
       "4                 not_applicable           not_applicable\n",
       "5                 not_applicable           not_applicable\n",
       "6                 not_applicable           not_applicable\n",
       "  Wave_exposure_preference Western.most_range_edge Zooxanthellate     reef_type\n",
       "1                  Unknown                 Unknown        Unknown       Unknown\n",
       "2                  Unknown                 Unknown        Unknown       Unknown\n",
       "3                  Unknown                 Unknown        Unknown       Unknown\n",
       "4           not_applicable          not_applicable not_applicable Fringing_Reef\n",
       "5           not_applicable          not_applicable not_applicable Fringing_Reef\n",
       "6           not_applicable          not_applicable not_applicable Fringing_Reef\n",
       "  shelf_location        site_name geographic_area political_area ocean_area\n",
       "1        Unknown          Unknown         Unknown        Unknown    Unknown\n",
       "2        Unknown          Unknown         Unknown        Unknown    Unknown\n",
       "3        Unknown          Unknown         Unknown        Unknown    Unknown\n",
       "4        inshore Lord_Howe_Island              SE      Australia Tasman_Sea\n",
       "5        inshore Lord_Howe_Island              SE      Australia Tasman_Sea\n",
       "6        inshore Lord_Howe_Island              SE      Australia Tasman_Sea\n",
       "    ocean ocean_superregion\n",
       "1 Unknown           Unknown\n",
       "2 Unknown           Unknown\n",
       "3 Unknown           Unknown\n",
       "4 Pacific      Indo-Pacific\n",
       "5 Pacific      Indo-Pacific\n",
       "6 Pacific      Indo-Pacific\n",
       "                                                            full_location\n",
       "1                                                                 Unknown\n",
       "2                                                                 Unknown\n",
       "3                                                                 Unknown\n",
       "4 Indo-Pacific;Pacific;Tasman_Sea;Australia;SE;Lord_Howe_Island;North_Bay\n",
       "5 Indo-Pacific;Pacific;Tasman_Sea;Australia;SE;Lord_Howe_Island;North_Bay\n",
       "6 Indo-Pacific;Pacific;Tasman_Sea;Australia;SE;Lord_Howe_Island;Far_Flats\n",
       "  hemisphere expedition_number sampling_expedition   country collected_by\n",
       "1    Unknown           Unknown             Unknown   Unknown      Unknown\n",
       "2    Unknown           Unknown             Unknown   Unknown      Unknown\n",
       "3    Unknown           Unknown             Unknown   Unknown      Unknown\n",
       "4   Southern               E10  E10_Lord_Howe_2015 Australia  Joe_Pollock\n",
       "5   Southern               E10  E10_Lord_Howe_2015 Australia  Joe_Pollock\n",
       "6   Southern               E10  E10_Lord_Howe_2015 Australia  Joe_Pollock\n",
       "  relevant_collaborators visibility visibility_method  env_biome\n",
       "1                Unknown    Unknown           Unknown    Unknown\n",
       "2                Unknown    Unknown           Unknown    Unknown\n",
       "3                Unknown    Unknown           Unknown    Unknown\n",
       "4                Unknown         20    Diver_Estimate coral_reef\n",
       "5                Unknown         20    Diver_Estimate coral_reef\n",
       "6                Unknown         15    Diver_Estimate coral_reef\n",
       "                env_feature prop_Colony_maximum_GCMP_recorded\n",
       "1                   Unknown                           Unknown\n",
       "2                   Unknown                           Unknown\n",
       "3                   Unknown                           Unknown\n",
       "4 animal-associated_habitat                           Unknown\n",
       "5 animal-associated_habitat                           Unknown\n",
       "6 animal-associated_habitat                           Unknown\n",
       "  prop_Colony_maximum_diameter_universal prop_Colony_maximum_diameter\n",
       "1                                Unknown                      Unknown\n",
       "2                                Unknown                      Unknown\n",
       "3                                Unknown                      Unknown\n",
       "4                                Unknown                      Unknown\n",
       "5                                Unknown                      Unknown\n",
       "6                                Unknown                      Unknown\n",
       "  Description\n",
       "1     Unknown\n",
       "2     Unknown\n",
       "3     Unknown\n",
       "4        None\n",
       "5        None\n",
       "6        None"
      ]
     },
     "execution_count": 4,
     "metadata": {},
     "output_type": "execute_result"
    }
   ],
   "source": [
    "#Import the data\n",
    "read.csv('output/microbiome_age_v2.csv', header=T)->data\n",
    "head(data)"
   ]
  },
  {
   "cell_type": "code",
   "execution_count": 5,
   "metadata": {
    "collapsed": true
   },
   "outputs": [],
   "source": [
    "#remove Unknown size\n",
    "subset(data,colony_width_max != \"Unknown\")->data_no_unknown_size\n",
    "\n",
    "#remove Unknown functional group\n",
    "subset(data_no_unknown_size,functional_group_sensu_darling != \"Unknown\")->data_no_unknown_size_or_functional_group"
   ]
  },
  {
   "cell_type": "code",
   "execution_count": 6,
   "metadata": {
    "collapsed": true
   },
   "outputs": [],
   "source": [
    "# Subset to only include Scleractinians\n",
    "subset(data, taxonomy_string_to_order == \"Cnidaria_Anthozoa_Scleractinia\")->data_scleractinia\n",
    "subset(data_scleractinia,  BiologicalMatter != \"Whole_Coral\")->data_scleractinia_compartments"
   ]
  },
  {
   "cell_type": "code",
   "execution_count": 7,
   "metadata": {
    "collapsed": false,
    "scrolled": true
   },
   "outputs": [
    {
     "data": {
      "text/html": [
       "614"
      ],
      "text/latex": [
       "614"
      ],
      "text/markdown": [
       "614"
      ],
      "text/plain": [
       "[1] 614"
      ]
     },
     "execution_count": 7,
     "metadata": {},
     "output_type": "execute_result"
    }
   ],
   "source": [
    "nrow(data_scleractinia_compartments)"
   ]
  },
  {
   "cell_type": "markdown",
   "metadata": {},
   "source": [
    "# Latitude"
   ]
  },
  {
   "cell_type": "code",
   "execution_count": 9,
   "metadata": {
    "collapsed": false
   },
   "outputs": [
    {
     "name": "stdout",
     "output_type": "stream",
     "text": [
      "[1] \"Tissue\"\n"
     ]
    },
    {
     "data": {
      "text/html": [
       "199"
      ],
      "text/latex": [
       "199"
      ],
      "text/markdown": [
       "199"
      ],
      "text/plain": [
       "[1] 199"
      ]
     },
     "execution_count": 9,
     "metadata": {},
     "output_type": "execute_result"
    },
    {
     "data": {
      "text/plain": [
       "\n",
       "\tPearson's product-moment correlation\n",
       "\n",
       "data:  as.numeric(as.character(data_corals_only_tissue$latitude)) and as.numeric(as.character(data_corals_only_tissue$PD_whole_tree))\n",
       "t = 2.4105, df = 197, p-value = 0.01685\n",
       "alternative hypothesis: true correlation is not equal to 0\n",
       "95 percent confidence interval:\n",
       " 0.03089782 0.30125792\n",
       "sample estimates:\n",
       "      cor \n",
       "0.1692603 \n"
      ]
     },
     "execution_count": 9,
     "metadata": {},
     "output_type": "execute_result"
    },
    {
     "name": "stdout",
     "output_type": "stream",
     "text": [
      "[1] \"Mucus\"\n"
     ]
    },
    {
     "data": {
      "text/html": [
       "207"
      ],
      "text/latex": [
       "207"
      ],
      "text/markdown": [
       "207"
      ],
      "text/plain": [
       "[1] 207"
      ]
     },
     "execution_count": 9,
     "metadata": {},
     "output_type": "execute_result"
    },
    {
     "data": {
      "text/plain": [
       "\n",
       "\tPearson's product-moment correlation\n",
       "\n",
       "data:  as.numeric(as.character(data_corals_only_mucus$latitude)) and as.numeric(as.character(data_corals_only_mucus$PD_whole_tree))\n",
       "t = 3.9839, df = 205, p-value = 9.416e-05\n",
       "alternative hypothesis: true correlation is not equal to 0\n",
       "95 percent confidence interval:\n",
       " 0.1366930 0.3901728\n",
       "sample estimates:\n",
       "     cor \n",
       "0.268066 \n"
      ]
     },
     "execution_count": 9,
     "metadata": {},
     "output_type": "execute_result"
    },
    {
     "name": "stdout",
     "output_type": "stream",
     "text": [
      "[1] \"Skeleton\"\n"
     ]
    },
    {
     "data": {
      "text/html": [
       "208"
      ],
      "text/latex": [
       "208"
      ],
      "text/markdown": [
       "208"
      ],
      "text/plain": [
       "[1] 208"
      ]
     },
     "execution_count": 9,
     "metadata": {},
     "output_type": "execute_result"
    },
    {
     "data": {
      "text/plain": [
       "\n",
       "\tPearson's product-moment correlation\n",
       "\n",
       "data:  as.numeric(as.character(data_corals_only_skeleton$latitude)) and as.numeric(as.character(data_corals_only_skeleton$PD_whole_tree))\n",
       "t = 2.7801, df = 206, p-value = 0.005938\n",
       "alternative hypothesis: true correlation is not equal to 0\n",
       "95 percent confidence interval:\n",
       " 0.05555803 0.31797700\n",
       "sample estimates:\n",
       "      cor \n",
       "0.1901619 \n"
      ]
     },
     "execution_count": 9,
     "metadata": {},
     "output_type": "execute_result"
    }
   ],
   "source": [
    "# PD_whole_tree vs. latitude\n",
    "subset(data_scleractinia_compartments, BiologicalMatter == \"Coral_Tissue\")->data_corals_only_tissue\n",
    "subset(data_scleractinia_compartments, BiologicalMatter == \"Coral_Mucus\")->data_corals_only_mucus\n",
    "subset(data_scleractinia_compartments, BiologicalMatter == \"Coral_Skeleton\")->data_corals_only_skeleton\n",
    "\n",
    "print(\"Tissue\")\n",
    "nrow(data_corals_only_tissue)\n",
    "cor.test(as.numeric(as.character(data_corals_only_tissue$latitude)), as.numeric(as.character(data_corals_only_tissue$PD_whole_tree)),\n",
    "         alternative = \"two.sided\", method = \"pearson\", conf.level = 0.95)\n",
    "print(\"Mucus\")\n",
    "nrow(data_corals_only_mucus)\n",
    "cor.test(as.numeric(as.character(data_corals_only_mucus$latitude)), as.numeric(as.character(data_corals_only_mucus$PD_whole_tree)),\n",
    "         alternative = \"two.sided\", method = \"pearson\", conf.level = 0.95)\n",
    "print(\"Skeleton\")\n",
    "nrow(data_corals_only_skeleton)\n",
    "cor.test(as.numeric(as.character(data_corals_only_skeleton$latitude)), as.numeric(as.character(data_corals_only_skeleton$PD_whole_tree)),\n",
    "         alternative = \"two.sided\", method = \"pearson\", conf.level = 0.95)"
   ]
  },
  {
   "cell_type": "code",
   "execution_count": 18,
   "metadata": {
    "collapsed": false
   },
   "outputs": [
    {
     "name": "stderr",
     "output_type": "stream",
     "text": [
      "Saving 7 x 7 in image\n"
     ]
    }
   ],
   "source": [
    "plot1 <-ggplot(data_scleractinia_compartments, aes(x=as.numeric(as.character(latitude)), y=as.numeric(as.character(PD_whole_tree)), color=BiologicalMatter)) +\n",
    "    geom_point(shape=1) +\n",
    "    geom_smooth(method=lm,   # Add linear regression lines\n",
    "                se=TRUE)    # Add shaded confidence region\n",
    "\n",
    "g1 <- set_panel_size(plot1)\n",
    "ggsave(g1, file=\"/Users/FJPollock/Dropbox/Coral_Microbiomes_Postdoc/GCMP_OSU_PSU_Shared_Folder/Coral_microbe_coevolution/Projects/Australia_Coevolution_Paper/16S_analysis/7_microbiomes_w_coral_size_lat/output/figures/raw_output/NEW_latitude_v_pd_color.svg\")"
   ]
  },
  {
   "cell_type": "code",
   "execution_count": 10,
   "metadata": {
    "collapsed": false
   },
   "outputs": [
    {
     "name": "stdout",
     "output_type": "stream",
     "text": [
      "[1] \"Tissue\"\n"
     ]
    },
    {
     "data": {
      "text/html": [
       "199"
      ],
      "text/latex": [
       "199"
      ],
      "text/markdown": [
       "199"
      ],
      "text/plain": [
       "[1] 199"
      ]
     },
     "execution_count": 10,
     "metadata": {},
     "output_type": "execute_result"
    },
    {
     "data": {
      "text/plain": [
       "\n",
       "\tPearson's product-moment correlation\n",
       "\n",
       "data:  as.numeric(as.character(data_corals_only_tissue$latitude)) and as.numeric(as.character(data_corals_only_tissue$observed_otus))\n",
       "t = 2.5752, df = 197, p-value = 0.01075\n",
       "alternative hypothesis: true correlation is not equal to 0\n",
       "95 percent confidence interval:\n",
       " 0.04244037 0.31173023\n",
       "sample estimates:\n",
       "     cor \n",
       "0.180465 \n"
      ]
     },
     "execution_count": 10,
     "metadata": {},
     "output_type": "execute_result"
    },
    {
     "name": "stdout",
     "output_type": "stream",
     "text": [
      "[1] \"Mucus\"\n"
     ]
    },
    {
     "data": {
      "text/html": [
       "207"
      ],
      "text/latex": [
       "207"
      ],
      "text/markdown": [
       "207"
      ],
      "text/plain": [
       "[1] 207"
      ]
     },
     "execution_count": 10,
     "metadata": {},
     "output_type": "execute_result"
    },
    {
     "data": {
      "text/plain": [
       "\n",
       "\tPearson's product-moment correlation\n",
       "\n",
       "data:  as.numeric(as.character(data_corals_only_mucus$latitude)) and as.numeric(as.character(data_corals_only_mucus$observed_otus))\n",
       "t = 3.691, df = 205, p-value = 0.0002863\n",
       "alternative hypothesis: true correlation is not equal to 0\n",
       "95 percent confidence interval:\n",
       " 0.1172480 0.3732894\n",
       "sample estimates:\n",
       "      cor \n",
       "0.2496267 \n"
      ]
     },
     "execution_count": 10,
     "metadata": {},
     "output_type": "execute_result"
    },
    {
     "name": "stdout",
     "output_type": "stream",
     "text": [
      "[1] \"Skeleton\"\n"
     ]
    },
    {
     "data": {
      "text/html": [
       "208"
      ],
      "text/latex": [
       "208"
      ],
      "text/markdown": [
       "208"
      ],
      "text/plain": [
       "[1] 208"
      ]
     },
     "execution_count": 10,
     "metadata": {},
     "output_type": "execute_result"
    },
    {
     "data": {
      "text/plain": [
       "\n",
       "\tPearson's product-moment correlation\n",
       "\n",
       "data:  as.numeric(as.character(data_corals_only_skeleton$latitude)) and as.numeric(as.character(data_corals_only_skeleton$observed_otus))\n",
       "t = 3.0264, df = 206, p-value = 0.00279\n",
       "alternative hypothesis: true correlation is not equal to 0\n",
       "95 percent confidence interval:\n",
       " 0.07231161 0.33301694\n",
       "sample estimates:\n",
       "      cor \n",
       "0.2063231 \n"
      ]
     },
     "execution_count": 10,
     "metadata": {},
     "output_type": "execute_result"
    }
   ],
   "source": [
    "# observed_otus vs. latitude\n",
    "subset(data_scleractinia_compartments, BiologicalMatter == \"Coral_Tissue\")->data_corals_only_tissue\n",
    "subset(data_scleractinia_compartments, BiologicalMatter == \"Coral_Mucus\")->data_corals_only_mucus\n",
    "subset(data_scleractinia_compartments, BiologicalMatter == \"Coral_Skeleton\")->data_corals_only_skeleton\n",
    "\n",
    "print(\"Tissue\")\n",
    "nrow(data_corals_only_tissue)\n",
    "cor.test(as.numeric(as.character(data_corals_only_tissue$latitude)), as.numeric(as.character(data_corals_only_tissue$observed_otus)),\n",
    "         alternative = \"two.sided\", method = \"pearson\", conf.level = 0.95)\n",
    "print(\"Mucus\")\n",
    "nrow(data_corals_only_mucus)\n",
    "cor.test(as.numeric(as.character(data_corals_only_mucus$latitude)), as.numeric(as.character(data_corals_only_mucus$observed_otus)),\n",
    "         alternative = \"two.sided\", method = \"pearson\", conf.level = 0.95)\n",
    "print(\"Skeleton\")\n",
    "nrow(data_corals_only_skeleton)\n",
    "cor.test(as.numeric(as.character(data_corals_only_skeleton$latitude)), as.numeric(as.character(data_corals_only_skeleton$observed_otus)),\n",
    "         alternative = \"two.sided\", method = \"pearson\", conf.level = 0.95)"
   ]
  },
  {
   "cell_type": "code",
   "execution_count": 23,
   "metadata": {
    "collapsed": false
   },
   "outputs": [
    {
     "name": "stderr",
     "output_type": "stream",
     "text": [
      "Saving 7 x 7 in image\n"
     ]
    }
   ],
   "source": [
    "plot1 <-ggplot(data_scleractinia_compartments, aes(x=as.numeric(as.character(latitude)), y=as.numeric(as.character(observed_otus)), color=BiologicalMatter)) +\n",
    "    geom_point(shape=1) +\n",
    "    geom_smooth(method=lm,   # Add linear regression lines\n",
    "                se=TRUE)    # Add shaded confidence region\n",
    "\n",
    "g1 <- set_panel_size(plot1)\n",
    "ggsave(g1, file=\"/Users/FJPollock/Dropbox/Coral_Microbiomes_Postdoc/GCMP_OSU_PSU_Shared_Folder/Coral_microbe_coevolution/Projects/Australia_Coevolution_Paper/16S_analysis/7_microbiomes_w_coral_size_lat/output/figures/raw_output/NEW_latitude_v_observed_otus_color.svg\")"
   ]
  },
  {
   "cell_type": "markdown",
   "metadata": {},
   "source": [
    "# Size"
   ]
  },
  {
   "cell_type": "code",
   "execution_count": 20,
   "metadata": {
    "collapsed": false
   },
   "outputs": [
    {
     "name": "stdout",
     "output_type": "stream",
     "text": [
      "[1] \"All_compartments\"\n"
     ]
    },
    {
     "data": {
      "text/plain": [
       "\n",
       "\tPearson's product-moment correlation\n",
       "\n",
       "data:  as.numeric(as.character(data_scleractinia_compartments$prop_Colony_maximum_diameter_universal)) and as.numeric(as.character(data_scleractinia_compartments$PD_whole_tree))\n",
       "t = -2.7722, df = 612, p-value = 0.005737\n",
       "alternative hypothesis: true correlation is not equal to 0\n",
       "95 percent confidence interval:\n",
       " -0.18882560 -0.03252428\n",
       "sample estimates:\n",
       "       cor \n",
       "-0.1113636 \n"
      ]
     },
     "execution_count": 20,
     "metadata": {},
     "output_type": "execute_result"
    }
   ],
   "source": [
    "# All together: size vs. pd_whole_tree\n",
    "print(\"All_compartments\")\n",
    "cor.test(as.numeric(as.character(data_scleractinia_compartments$prop_Colony_maximum_diameter_universal)), as.numeric(as.character(data_scleractinia_compartments$PD_whole_tree)),\n",
    "         alternative = \"two.sided\", method = \"pearson\", conf.level = 0.95)\n"
   ]
  },
  {
   "cell_type": "code",
   "execution_count": 16,
   "metadata": {
    "collapsed": false
   },
   "outputs": [
    {
     "name": "stdout",
     "output_type": "stream",
     "text": [
      "[1] \"Tissue\"\n"
     ]
    },
    {
     "data": {
      "text/plain": [
       "\n",
       "\tPearson's product-moment correlation\n",
       "\n",
       "data:  as.numeric(as.character(data_corals_only_tissue$prop_Colony_maximum_diameter_universal)) and as.numeric(as.character(data_corals_only_tissue$PD_whole_tree))\n",
       "t = -2.7751, df = 197, p-value = 0.006049\n",
       "alternative hypothesis: true correlation is not equal to 0\n",
       "95 percent confidence interval:\n",
       " -0.32430538 -0.05639631\n",
       "sample estimates:\n",
       "       cor \n",
       "-0.1939647 \n"
      ]
     },
     "execution_count": 16,
     "metadata": {},
     "output_type": "execute_result"
    },
    {
     "name": "stdout",
     "output_type": "stream",
     "text": [
      "[1] \"Mucus\"\n"
     ]
    },
    {
     "data": {
      "text/plain": [
       "\n",
       "\tPearson's product-moment correlation\n",
       "\n",
       "data:  as.numeric(as.character(data_corals_only_mucus$prop_Colony_maximum_diameter_universal)) and as.numeric(as.character(data_corals_only_mucus$PD_whole_tree))\n",
       "t = 0.069759, df = 205, p-value = 0.9445\n",
       "alternative hypothesis: true correlation is not equal to 0\n",
       "95 percent confidence interval:\n",
       " -0.1315853  0.1411484\n",
       "sample estimates:\n",
       "        cor \n",
       "0.004872139 \n"
      ]
     },
     "execution_count": 16,
     "metadata": {},
     "output_type": "execute_result"
    },
    {
     "name": "stdout",
     "output_type": "stream",
     "text": [
      "[1] \"Skeleton\"\n"
     ]
    },
    {
     "data": {
      "text/plain": [
       "\n",
       "\tPearson's product-moment correlation\n",
       "\n",
       "data:  as.numeric(as.character(data_corals_only_skeleton$prop_Colony_maximum_diameter_universal)) and as.numeric(as.character(data_corals_only_skeleton$PD_whole_tree))\n",
       "t = -1.7414, df = 206, p-value = 0.08311\n",
       "alternative hypothesis: true correlation is not equal to 0\n",
       "95 percent confidence interval:\n",
       " -0.25235037  0.01585686\n",
       "sample estimates:\n",
       "       cor \n",
       "-0.1204441 \n"
      ]
     },
     "execution_count": 16,
     "metadata": {},
     "output_type": "execute_result"
    }
   ],
   "source": [
    "# By compartment: size vs. pd_whole_tree\n",
    "subset(data_scleractinia_compartments, BiologicalMatter == \"Coral_Tissue\")->data_corals_only_tissue\n",
    "subset(data_scleractinia_compartments, BiologicalMatter == \"Coral_Mucus\")->data_corals_only_mucus\n",
    "subset(data_scleractinia_compartments, BiologicalMatter == \"Coral_Skeleton\")->data_corals_only_skeleton\n",
    "\n",
    "print(\"Tissue\")\n",
    "cor.test(as.numeric(as.character(data_corals_only_tissue$prop_Colony_maximum_diameter_universal)), as.numeric(as.character(data_corals_only_tissue$PD_whole_tree)),\n",
    "         alternative = \"two.sided\", method = \"pearson\", conf.level = 0.95)\n",
    "print(\"Mucus\")\n",
    "cor.test(as.numeric(as.character(data_corals_only_mucus$prop_Colony_maximum_diameter_universal)), as.numeric(as.character(data_corals_only_mucus$PD_whole_tree)),\n",
    "         alternative = \"two.sided\", method = \"pearson\", conf.level = 0.95)\n",
    "print(\"Skeleton\")\n",
    "cor.test(as.numeric(as.character(data_corals_only_skeleton$prop_Colony_maximum_diameter_universal)), as.numeric(as.character(data_corals_only_skeleton$PD_whole_tree)),\n",
    "         alternative = \"two.sided\", method = \"pearson\", conf.level = 0.95)"
   ]
  },
  {
   "cell_type": "code",
   "execution_count": 19,
   "metadata": {
    "collapsed": false
   },
   "outputs": [
    {
     "name": "stderr",
     "output_type": "stream",
     "text": [
      "Saving 7 x 7 in image\n"
     ]
    }
   ],
   "source": [
    "# size vs. pd_whole_tree\n",
    "#Clear plot\n",
    "plot1<-0\n",
    "\n",
    "#Plot\n",
    "plot1 <-ggplot(data_scleractinia_compartments, aes(x=as.numeric(as.character(prop_Colony_maximum_diameter_universal)), y=as.numeric(as.character(PD_whole_tree)), color=BiologicalMatter)) +\n",
    "    geom_point(shape=1) +\n",
    "    geom_smooth(method=lm,   # Add linear regression lines\n",
    "                se=TRUE)    # Add shaded confidence region\n",
    "\n",
    "g1 <- set_panel_size(plot1)\n",
    "ggsave(g1, file=\"/Users/FJPollock/Dropbox/Coral_Microbiomes_Postdoc/GCMP_OSU_PSU_Shared_Folder/Coral_microbe_coevolution/Projects/Australia_Coevolution_Paper/16S_analysis/7_microbiomes_w_coral_size_lat/output/figures/raw_output/NEW_size_v_pd_color.svg\")"
   ]
  },
  {
   "cell_type": "code",
   "execution_count": 24,
   "metadata": {
    "collapsed": false
   },
   "outputs": [
    {
     "name": "stdout",
     "output_type": "stream",
     "text": [
      "[1] \"Tissue\"\n"
     ]
    },
    {
     "data": {
      "text/plain": [
       "\n",
       "\tPearson's product-moment correlation\n",
       "\n",
       "data:  as.numeric(as.character(data_corals_only_tissue$prop_Colony_maximum_diameter_universal)) and as.numeric(as.character(data_corals_only_tissue$observed_otus))\n",
       "t = -2.834, df = 197, p-value = 0.005075\n",
       "alternative hypothesis: true correlation is not equal to 0\n",
       "95 percent confidence interval:\n",
       " -0.32798270 -0.06049729\n",
       "sample estimates:\n",
       "       cor \n",
       "-0.1979218 \n"
      ]
     },
     "execution_count": 24,
     "metadata": {},
     "output_type": "execute_result"
    },
    {
     "name": "stdout",
     "output_type": "stream",
     "text": [
      "[1] \"Mucus\"\n"
     ]
    },
    {
     "data": {
      "text/plain": [
       "\n",
       "\tPearson's product-moment correlation\n",
       "\n",
       "data:  as.numeric(as.character(data_corals_only_mucus$prop_Colony_maximum_diameter_universal)) and as.numeric(as.character(data_corals_only_mucus$observed_otus))\n",
       "t = -0.17186, df = 205, p-value = 0.8637\n",
       "alternative hypothesis: true correlation is not equal to 0\n",
       "95 percent confidence interval:\n",
       " -0.1481299  0.1245716\n",
       "sample estimates:\n",
       "       cor \n",
       "-0.0120023 \n"
      ]
     },
     "execution_count": 24,
     "metadata": {},
     "output_type": "execute_result"
    },
    {
     "name": "stdout",
     "output_type": "stream",
     "text": [
      "[1] \"Skeleton\"\n"
     ]
    },
    {
     "data": {
      "text/plain": [
       "\n",
       "\tPearson's product-moment correlation\n",
       "\n",
       "data:  as.numeric(as.character(data_corals_only_skeleton$prop_Colony_maximum_diameter_universal)) and as.numeric(as.character(data_corals_only_skeleton$observed_otus))\n",
       "t = -2.2025, df = 206, p-value = 0.02874\n",
       "alternative hypothesis: true correlation is not equal to 0\n",
       "95 percent confidence interval:\n",
       " -0.28190585 -0.01597025\n",
       "sample estimates:\n",
       "       cor \n",
       "-0.1516818 \n"
      ]
     },
     "execution_count": 24,
     "metadata": {},
     "output_type": "execute_result"
    }
   ],
   "source": [
    "# By compartment: size vs. observed_otus\n",
    "subset(data_scleractinia_compartments, BiologicalMatter == \"Coral_Tissue\")->data_corals_only_tissue\n",
    "subset(data_scleractinia_compartments, BiologicalMatter == \"Coral_Mucus\")->data_corals_only_mucus\n",
    "subset(data_scleractinia_compartments, BiologicalMatter == \"Coral_Skeleton\")->data_corals_only_skeleton\n",
    "\n",
    "print(\"Tissue\")\n",
    "cor.test(as.numeric(as.character(data_corals_only_tissue$prop_Colony_maximum_diameter_universal)), as.numeric(as.character(data_corals_only_tissue$observed_otus)),\n",
    "         alternative = \"two.sided\", method = \"pearson\", conf.level = 0.95)\n",
    "print(\"Mucus\")\n",
    "cor.test(as.numeric(as.character(data_corals_only_mucus$prop_Colony_maximum_diameter_universal)), as.numeric(as.character(data_corals_only_mucus$observed_otus)),\n",
    "         alternative = \"two.sided\", method = \"pearson\", conf.level = 0.95)\n",
    "print(\"Skeleton\")\n",
    "cor.test(as.numeric(as.character(data_corals_only_skeleton$prop_Colony_maximum_diameter_universal)), as.numeric(as.character(data_corals_only_skeleton$observed_otus)),\n",
    "         alternative = \"two.sided\", method = \"pearson\", conf.level = 0.95)"
   ]
  },
  {
   "cell_type": "code",
   "execution_count": 26,
   "metadata": {
    "collapsed": false
   },
   "outputs": [
    {
     "name": "stderr",
     "output_type": "stream",
     "text": [
      "Saving 7 x 7 in image\n"
     ]
    }
   ],
   "source": [
    "# size vs. pd_whole_tree\n",
    "#Clear plot\n",
    "plot1<-0\n",
    "\n",
    "#Plot\n",
    "plot1 <-ggplot(data_scleractinia_compartments, aes(x=as.numeric(as.character(prop_Colony_maximum_diameter_universal)), y=as.numeric(as.character(observed_otus)), color=BiologicalMatter)) +\n",
    "    geom_point(shape=1) +\n",
    "    geom_smooth(method=lm,   # Add linear regression lines\n",
    "                se=TRUE)    # Add shaded confidence region\n",
    "\n",
    "g1 <- set_panel_size(plot1)\n",
    "ggsave(g1, file=\"/Users/FJPollock/Dropbox/Coral_Microbiomes_Postdoc/GCMP_OSU_PSU_Shared_Folder/Coral_microbe_coevolution/Projects/Australia_Coevolution_Paper/16S_analysis/7_microbiomes_w_coral_size_lat/output/figures/raw_output/NEW_size_v_observed_otus_color.svg\")"
   ]
  },
  {
   "cell_type": "code",
   "execution_count": null,
   "metadata": {
    "collapsed": true
   },
   "outputs": [],
   "source": []
  }
 ],
 "metadata": {
  "kernelspec": {
   "display_name": "Python 2",
   "language": "python",
   "name": "python2"
  },
  "language_info": {
   "codemirror_mode": {
    "name": "ipython",
    "version": 2
   },
   "file_extension": ".py",
   "mimetype": "text/x-python",
   "name": "python",
   "nbconvert_exporter": "python",
   "pygments_lexer": "ipython2",
   "version": "2.7.12"
  }
 },
 "nbformat": 4,
 "nbformat_minor": 0
}
