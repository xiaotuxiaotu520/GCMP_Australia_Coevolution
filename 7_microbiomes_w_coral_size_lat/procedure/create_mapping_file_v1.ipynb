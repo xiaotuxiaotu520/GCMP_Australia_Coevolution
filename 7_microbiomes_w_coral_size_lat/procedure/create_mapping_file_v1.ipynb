{
 "cells": [
  {
   "cell_type": "code",
   "execution_count": 1,
   "metadata": {
    "collapsed": false,
    "scrolled": true
   },
   "outputs": [
    {
     "name": "stdout",
     "output_type": "stream",
     "text": [
      "/Users/FJPollock/Dropbox/coral_microbiomes_postdoc/GCMP_OSU_PSU_Shared_Folder/Coral_microbe_coevolution/Projects/Australia_Coevolution_Paper/16S_analysis/7_microbiomes_w_coral_size_lat\n"
     ]
    }
   ],
   "source": [
    "cd .."
   ]
  },
  {
   "cell_type": "code",
   "execution_count": 2,
   "metadata": {
    "collapsed": false
   },
   "outputs": [
    {
     "name": "stdout",
     "output_type": "stream",
     "text": [
      "Rplots.pdf     Rplots124.pdf  Rplots23.pdf   Rplots5.pdf    Rplots76.pdf\r\n",
      "Rplots1.pdf    Rplots125.pdf  Rplots24.pdf   Rplots50.pdf   Rplots77.pdf\r\n",
      "Rplots10.pdf   Rplots126.pdf  Rplots25.pdf   Rplots51.pdf   Rplots78.pdf\r\n",
      "Rplots100.pdf  Rplots127.pdf  Rplots26.pdf   Rplots52.pdf   Rplots79.pdf\r\n",
      "Rplots101.pdf  Rplots128.pdf  Rplots27.pdf   Rplots53.pdf   Rplots8.pdf\r\n",
      "Rplots102.pdf  Rplots129.pdf  Rplots28.pdf   Rplots54.pdf   Rplots80.pdf\r\n",
      "Rplots103.pdf  Rplots13.pdf   Rplots29.pdf   Rplots55.pdf   Rplots81.pdf\r\n",
      "Rplots104.pdf  Rplots130.pdf  Rplots3.pdf    Rplots56.pdf   Rplots82.pdf\r\n",
      "Rplots105.pdf  Rplots131.pdf  Rplots30.pdf   Rplots57.pdf   Rplots83.pdf\r\n",
      "Rplots106.pdf  Rplots132.pdf  Rplots31.pdf   Rplots58.pdf   Rplots84.pdf\r\n",
      "Rplots107.pdf  Rplots133.pdf  Rplots32.pdf   Rplots59.pdf   Rplots85.pdf\r\n",
      "Rplots108.pdf  Rplots134.pdf  Rplots33.pdf   Rplots6.pdf    Rplots86.pdf\r\n",
      "Rplots109.pdf  Rplots135.pdf  Rplots34.pdf   Rplots60.pdf   Rplots87.pdf\r\n",
      "Rplots11.pdf   Rplots136.pdf  Rplots35.pdf   Rplots61.pdf   Rplots88.pdf\r\n",
      "Rplots110.pdf  Rplots137.pdf  Rplots36.pdf   Rplots62.pdf   Rplots89.pdf\r\n",
      "Rplots111.pdf  Rplots138.pdf  Rplots37.pdf   Rplots63.pdf   Rplots9.pdf\r\n",
      "Rplots112.pdf  Rplots139.pdf  Rplots38.pdf   Rplots64.pdf   Rplots90.pdf\r\n",
      "Rplots113.pdf  Rplots14.pdf   Rplots39.pdf   Rplots65.pdf   Rplots91.pdf\r\n",
      "Rplots114.pdf  Rplots140.pdf  Rplots4.pdf    Rplots66.pdf   Rplots92.pdf\r\n",
      "Rplots115.pdf  Rplots141.pdf  Rplots40.pdf   Rplots67.pdf   Rplots93.pdf\r\n",
      "Rplots116.pdf  Rplots15.pdf   Rplots41.pdf   Rplots68.pdf   Rplots94.pdf\r\n",
      "Rplots117.pdf  Rplots16.pdf   Rplots42.pdf   Rplots69.pdf   Rplots95.pdf\r\n",
      "Rplots118.pdf  Rplots17.pdf   Rplots43.pdf   Rplots7.pdf    Rplots96.pdf\r\n",
      "Rplots119.pdf  Rplots18.pdf   Rplots44.pdf   Rplots70.pdf   Rplots97.pdf\r\n",
      "Rplots12.pdf   Rplots19.pdf   Rplots45.pdf   Rplots71.pdf   Rplots98.pdf\r\n",
      "Rplots120.pdf  Rplots2.pdf    Rplots46.pdf   Rplots72.pdf   Rplots99.pdf\r\n",
      "Rplots121.pdf  Rplots20.pdf   Rplots47.pdf   Rplots73.pdf   \u001b[1m\u001b[34minput\u001b[m\u001b[m/\r\n",
      "Rplots122.pdf  Rplots21.pdf   Rplots48.pdf   Rplots74.pdf   \u001b[1m\u001b[34moutput\u001b[m\u001b[m/\r\n",
      "Rplots123.pdf  Rplots22.pdf   Rplots49.pdf   Rplots75.pdf   \u001b[1m\u001b[34mprocedure\u001b[m\u001b[m/\r\n"
     ]
    }
   ],
   "source": [
    "ls"
   ]
  },
  {
   "cell_type": "code",
   "execution_count": 3,
   "metadata": {
    "collapsed": false
   },
   "outputs": [
    {
     "name": "stdout",
     "output_type": "stream",
     "text": [
      "/Users/FJPollock/Dropbox/coral_microbiomes_postdoc/GCMP_OSU_PSU_Shared_Folder/Coral_microbe_coevolution/Projects/Australia_Coevolution_Paper/16S_analysis/7_microbiomes_w_coral_size_lat/input\n"
     ]
    }
   ],
   "source": [
    "cd input/"
   ]
  },
  {
   "cell_type": "code",
   "execution_count": 5,
   "metadata": {
    "collapsed": false
   },
   "outputs": [],
   "source": [
    "#Filter out only samples in the BIOM file\n",
    "!filter_samples_from_otu_table.py -i otu_table_mc2_wtax_no_pynast_failures_no_organelles_even1000.biom -o sample_kept.biom -m gcmp16S_map_r20_no_spaces.txt --sample_id_fp samples_to_keep.txt --output_mapping_fp sample_kept_mapping.txt"
   ]
  },
  {
   "cell_type": "code",
   "execution_count": 7,
   "metadata": {
    "collapsed": false
   },
   "outputs": [],
   "source": [
    "#Filter out only coral samples (i.e. BiologicalMatter: Coral_Mucus, Coral_Tissue, Coral_Skeleton)\n",
    "!filter_samples_from_otu_table.py -i otu_table_mc2_wtax_no_pynast_failures_no_organelles_even1000.biom -o coral_samples_only.biom -m gcmp16S_map_r20_no_spaces.txt --sample_id_fp coral_samples_only.txt --output_mapping_fp coral_samples_only_mapping.txt"
   ]
  },
  {
   "cell_type": "code",
   "execution_count": 6,
   "metadata": {
    "collapsed": false
   },
   "outputs": [],
   "source": [
    "# Filter only coral samples from non-rarified BIOM file and convert subsampled biom file to txt for import into R\n",
    "!filter_samples_from_otu_table.py -i otu_table_mc2_wtax_no_pynast_failures_no_organelles.biom -o coral_samples_only_no_rarify.biom -m gcmp16S_map_r20_no_spaces.txt --sample_id_fp coral_samples_only.txt --output_mapping_fp coral_samples_only_no_rarify_mapping.txt\n",
    "!biom convert -i coral_samples_only_no_rarify.biom -o coral_samples_only_no_rarify.txt --to-tsv --header-key taxonomy"
   ]
  },
  {
   "cell_type": "code",
   "execution_count": null,
   "metadata": {
    "collapsed": true
   },
   "outputs": [],
   "source": [
    "# Joined OTU abundance data from coral_samples_only_no_rarify.txt and metadata from coral_samples_only_no_rarify_mapping.txt ->  coral_samples_only_no_rarify.csv"
   ]
  }
 ],
 "metadata": {
  "kernelspec": {
   "display_name": "Python 2",
   "language": "python",
   "name": "python2"
  },
  "language_info": {
   "codemirror_mode": {
    "name": "ipython",
    "version": 2
   },
   "file_extension": ".py",
   "mimetype": "text/x-python",
   "name": "python",
   "nbconvert_exporter": "python",
   "pygments_lexer": "ipython2",
   "version": "2.7.12"
  }
 },
 "nbformat": 4,
 "nbformat_minor": 0
}
