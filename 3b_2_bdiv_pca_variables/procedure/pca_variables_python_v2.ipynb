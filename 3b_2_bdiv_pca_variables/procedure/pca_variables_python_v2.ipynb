{
 "cells": [
  {
   "cell_type": "markdown",
   "metadata": {},
   "source": [
    "Here, we will explore drivers of separation along the PC1 & PC2 of Bray Curtis PCA:\n",
    "Australia_Coevolution_Paper/16S_analysis/3b_bdiv_australia_analysis/output/bdiv_all/bray_curtis_emperor_pcoa_plot"
   ]
  },
  {
   "cell_type": "markdown",
   "metadata": {},
   "source": [
    "It appears that PC1 explains separation among compartments"
   ]
  },
  {
   "cell_type": "code",
   "execution_count": 1,
   "metadata": {
    "collapsed": false
   },
   "outputs": [
    {
     "name": "stdout",
     "output_type": "stream",
     "text": [
      "/Users/FJPollock/Dropbox/coral_microbiomes_postdoc/GCMP_OSU_PSU_Shared_Folder/Coral_microbe_coevolution/Projects/Australia_Coevolution_Paper/16S_analysis/3b_2_bdiv_pca_variables\n"
     ]
    }
   ],
   "source": [
    "cd .."
   ]
  },
  {
   "cell_type": "code",
   "execution_count": 2,
   "metadata": {
    "collapsed": true
   },
   "outputs": [],
   "source": [
    "#Import libraries\n",
    "from os.path import join,abspath\n",
    "from os import listdir"
   ]
  },
  {
   "cell_type": "code",
   "execution_count": 3,
   "metadata": {
    "collapsed": true
   },
   "outputs": [],
   "source": [
    "#Set file paths\n",
    "input_dir = abspath(\"input/\")\n",
    "#NOTE: this is the rarified OTU table\n",
    "otu_table_1000 = abspath(\"input/otu_table_mc2_wtax_no_pynast_failures_no_organelles_even1000.biom\")\n",
    "otu_table = abspath(\"input/otu_table_mc2_wtax_no_pynast_failures_no_organelles.biom\")\n",
    "mapping = abspath(\"input/gcmp16S_map_r23.txt\")\n",
    "output_dir = abspath(\"output/\")"
   ]
  },
  {
   "cell_type": "code",
   "execution_count": 4,
   "metadata": {
    "collapsed": false
   },
   "outputs": [],
   "source": [
    "#Create mapping file with only the samples used in PCA\n",
    "#First, create txt file with sample names from PCA: in_pca_v2.txt\n",
    "pca_only_map = join(output_dir,\"pca_only_map_v2.txt \")\n",
    "!filter_samples_from_otu_table.py -i $otu_table -o $output_dir/filter_samples_from_otu_table_v2.biom -m $mapping --sample_id_fp $input_dir/in_pca.txt --output_mapping_fp $pca_only_map "
   ]
  },
  {
   "cell_type": "markdown",
   "metadata": {},
   "source": [
    "# Now move to R = pca_variables_r_v2.ipynb"
   ]
  }
 ],
 "metadata": {
  "kernelspec": {
   "display_name": "Python 2",
   "language": "python",
   "name": "python2"
  },
  "language_info": {
   "codemirror_mode": {
    "name": "ipython",
    "version": 2
   },
   "file_extension": ".py",
   "mimetype": "text/x-python",
   "name": "python",
   "nbconvert_exporter": "python",
   "pygments_lexer": "ipython2",
   "version": "2.7.11"
  }
 },
 "nbformat": 4,
 "nbformat_minor": 0
}
